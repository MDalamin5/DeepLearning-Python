{
 "cells": [
  {
   "cell_type": "code",
   "execution_count": 2,
   "id": "09deb3ee-5564-41d2-9c37-e30314088df7",
   "metadata": {},
   "outputs": [],
   "source": [
    "import numpy as np"
   ]
  },
  {
   "cell_type": "code",
   "execution_count": 3,
   "id": "34512995-084d-4169-bef6-4b9d1d76eda1",
   "metadata": {},
   "outputs": [],
   "source": [
    "y_predicted = np.array([1, 1, 0, 0, 1])\n",
    "y_true = np.array([0.30, 0.7, 1, 0, 0.5])"
   ]
  },
  {
   "cell_type": "code",
   "execution_count": 4,
   "id": "697298f1-bf4d-4ddb-a915-9bc7e02e1618",
   "metadata": {},
   "outputs": [],
   "source": [
    "# zip Function"
   ]
  },
  {
   "cell_type": "code",
   "execution_count": 5,
   "id": "2318213d-1e5d-412d-b428-bc94f9c91b67",
   "metadata": {},
   "outputs": [
    {
     "name": "stdout",
     "output_type": "stream",
     "text": [
      "1 0.3\n",
      "1 0.7\n",
      "0 1.0\n",
      "0 0.0\n",
      "1 0.5\n"
     ]
    }
   ],
   "source": [
    "ziped = zip(y_predicted, y_true)\n",
    "\n",
    "for a, b in ziped:\n",
    "    print(a, b)"
   ]
  },
  {
   "cell_type": "code",
   "execution_count": 6,
   "id": "ea77ebb3-fbf4-4654-87cf-51e4654f4a46",
   "metadata": {},
   "outputs": [],
   "source": [
    "def mea(y_true, y_prdicted):\n",
    "    total_error = 0\n",
    "    for yt, yp in zip(y_true, y_prdicted):\n",
    "        total_error += abs(yt - yp)\n",
    "    print('Total error: ', total_error)\n",
    "    mea = total_error / len(y_true)\n",
    "    print(\"MAE: \", mea)\n",
    "    return mea"
   ]
  },
  {
   "cell_type": "code",
   "execution_count": 7,
   "id": "a869d6cd-b9fd-4128-a2c3-06687781ed63",
   "metadata": {},
   "outputs": [
    {
     "name": "stdout",
     "output_type": "stream",
     "text": [
      "Total error:  2.5\n",
      "MAE:  0.5\n"
     ]
    },
    {
     "data": {
      "text/plain": [
       "0.5"
      ]
     },
     "execution_count": 7,
     "metadata": {},
     "output_type": "execute_result"
    }
   ],
   "source": [
    "mea(y_true, y_predicted)"
   ]
  },
  {
   "cell_type": "code",
   "execution_count": 8,
   "id": "e81a5449-700c-4c3b-86dc-faba243d6f15",
   "metadata": {},
   "outputs": [
    {
     "data": {
      "text/plain": [
       "0.5"
      ]
     },
     "execution_count": 8,
     "metadata": {},
     "output_type": "execute_result"
    }
   ],
   "source": [
    "np.mean(np.abs(y_predicted - y_true))"
   ]
  },
  {
   "cell_type": "code",
   "execution_count": 9,
   "id": "96f4844d-b08a-47e7-ba6f-80a3e322b22d",
   "metadata": {},
   "outputs": [
    {
     "name": "stderr",
     "output_type": "stream",
     "text": [
      "C:\\Users\\Lenovo\\AppData\\Local\\Temp\\ipykernel_1384\\262464415.py:1: RuntimeWarning: divide by zero encountered in log\n",
      "  np.log([0])\n"
     ]
    },
    {
     "data": {
      "text/plain": [
       "array([-inf])"
      ]
     },
     "execution_count": 9,
     "metadata": {},
     "output_type": "execute_result"
    }
   ],
   "source": [
    "np.log([0])"
   ]
  },
  {
   "cell_type": "code",
   "execution_count": 10,
   "id": "96b478f5-f1f7-47cc-83cb-70bc0e6c32aa",
   "metadata": {},
   "outputs": [
    {
     "data": {
      "text/plain": [
       "array([-85.19564844])"
      ]
     },
     "execution_count": 10,
     "metadata": {},
     "output_type": "execute_result"
    }
   ],
   "source": [
    "np.log([.0000000000000000000000000000000000001])"
   ]
  },
  {
   "cell_type": "markdown",
   "id": "7732fc4e",
   "metadata": {},
   "source": [
    "# Log Loss Function Implementation"
   ]
  },
  {
   "cell_type": "code",
   "execution_count": 12,
   "id": "754374d9-4e92-4c17-93a9-f00baba13b1d",
   "metadata": {},
   "outputs": [
    {
     "data": {
      "text/plain": [
       "1e-15"
      ]
     },
     "execution_count": 12,
     "metadata": {},
     "output_type": "execute_result"
    }
   ],
   "source": [
    "eplison = 1e-15\n",
    "eplison"
   ]
  },
  {
   "cell_type": "code",
   "execution_count": 20,
   "id": "2ec78d74",
   "metadata": {},
   "outputs": [
    {
     "data": {
      "text/plain": [
       "array([1, 1, 0, 0, 1])"
      ]
     },
     "execution_count": 20,
     "metadata": {},
     "output_type": "execute_result"
    }
   ],
   "source": [
    "y_predicted"
   ]
  },
  {
   "cell_type": "code",
   "execution_count": 21,
   "id": "a943b736",
   "metadata": {},
   "outputs": [],
   "source": [
    "y_predicted_new = [max(i, eplison) for i in y_predicted]"
   ]
  },
  {
   "cell_type": "code",
   "execution_count": 22,
   "id": "606973a1",
   "metadata": {},
   "outputs": [
    {
     "data": {
      "text/plain": [
       "[1, 1, 1e-15, 1e-15, 1]"
      ]
     },
     "execution_count": 22,
     "metadata": {},
     "output_type": "execute_result"
    }
   ],
   "source": [
    "y_predicted_new"
   ]
  },
  {
   "cell_type": "code",
   "execution_count": 23,
   "id": "93097003",
   "metadata": {},
   "outputs": [
    {
     "data": {
      "text/plain": [
       "[0.999999999999999, 0.999999999999999, 1e-15, 1e-15, 0.999999999999999]"
      ]
     },
     "execution_count": 23,
     "metadata": {},
     "output_type": "execute_result"
    }
   ],
   "source": [
    "y_predicted_new = [min(i, 1 - eplison) for i in y_predicted_new]\n",
    "y_predicted_new"
   ]
  },
  {
   "cell_type": "markdown",
   "id": "59e7e4da",
   "metadata": {},
   "source": [
    "## Numpy Array Approch"
   ]
  },
  {
   "cell_type": "code",
   "execution_count": 25,
   "id": "1b0ba30d",
   "metadata": {},
   "outputs": [
    {
     "data": {
      "text/plain": [
       "array([-9.99200722e-16, -9.99200722e-16, -3.45387764e+01, -3.45387764e+01,\n",
       "       -9.99200722e-16])"
      ]
     },
     "execution_count": 25,
     "metadata": {},
     "output_type": "execute_result"
    }
   ],
   "source": [
    "y_predicted_new = np.array(y_predicted_new)\n",
    "np.log(y_predicted_new)"
   ]
  },
  {
   "cell_type": "code",
   "execution_count": 26,
   "id": "918441fd",
   "metadata": {},
   "outputs": [],
   "source": [
    "def logLoss(y_true, y_predicted):\n",
    "    eplison = 1e-15\n",
    "    y_predicted_new = [max(i, eplison) for i in y_predicted]\n",
    "    y_predicted_new = [min(i, eplison) for i in y_predicted_new]\n",
    "    y_predicted_new = np.array(y_predicted_new)\n",
    "    return -np.mean(y_true * np.log(y_predicted_new) + (1 - y_true) * np.log(1 - y_predicted_new))"
   ]
  },
  {
   "cell_type": "code",
   "execution_count": 27,
   "id": "22e1ca4d",
   "metadata": {},
   "outputs": [
    {
     "data": {
      "text/plain": [
       "17.269388197455342"
      ]
     },
     "execution_count": 27,
     "metadata": {},
     "output_type": "execute_result"
    }
   ],
   "source": [
    "logLoss(y_true, y_predicted)"
   ]
  },
  {
   "cell_type": "code",
   "execution_count": null,
   "id": "5cb21884",
   "metadata": {},
   "outputs": [],
   "source": []
  }
 ],
 "metadata": {
  "kernelspec": {
   "display_name": "Python 3 (ipykernel)",
   "language": "python",
   "name": "python3"
  },
  "language_info": {
   "codemirror_mode": {
    "name": "ipython",
    "version": 3
   },
   "file_extension": ".py",
   "mimetype": "text/x-python",
   "name": "python",
   "nbconvert_exporter": "python",
   "pygments_lexer": "ipython3",
   "version": "3.10.14"
  }
 },
 "nbformat": 4,
 "nbformat_minor": 5
}
