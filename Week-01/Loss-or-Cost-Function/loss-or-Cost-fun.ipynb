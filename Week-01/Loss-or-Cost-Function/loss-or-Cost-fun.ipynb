{
 "cells": [
  {
   "cell_type": "code",
   "execution_count": 9,
   "id": "09deb3ee-5564-41d2-9c37-e30314088df7",
   "metadata": {},
   "outputs": [],
   "source": [
    "import numpy as np"
   ]
  },
  {
   "cell_type": "code",
   "execution_count": 10,
   "id": "34512995-084d-4169-bef6-4b9d1d76eda1",
   "metadata": {},
   "outputs": [],
   "source": [
    "y_predicted = np.array([1, 1, 0, 0, 1])\n",
    "y_true = np.array([0.30, 0.7, 1, 0, 0.5])"
   ]
  },
  {
   "cell_type": "code",
   "execution_count": 11,
   "id": "697298f1-bf4d-4ddb-a915-9bc7e02e1618",
   "metadata": {},
   "outputs": [],
   "source": [
    "# zip Function"
   ]
  },
  {
   "cell_type": "code",
   "execution_count": 12,
   "id": "2318213d-1e5d-412d-b428-bc94f9c91b67",
   "metadata": {},
   "outputs": [
    {
     "name": "stdout",
     "output_type": "stream",
     "text": [
      "1 0.3\n",
      "1 0.7\n",
      "0 1.0\n",
      "0 0.0\n",
      "1 0.5\n"
     ]
    }
   ],
   "source": [
    "ziped = zip(y_predicted, y_true)\n",
    "\n",
    "for a, b in ziped:\n",
    "    print(a, b)"
   ]
  },
  {
   "cell_type": "code",
   "execution_count": 16,
   "id": "ea77ebb3-fbf4-4654-87cf-51e4654f4a46",
   "metadata": {},
   "outputs": [],
   "source": [
    "def mea(y_true, y_prdicted):\n",
    "    total_error = 0\n",
    "    for yt, yp in zip(y_true, y_prdicted):\n",
    "        total_error += abs(yt - yp)\n",
    "    print('Total error: ', total_error)\n",
    "    mea = total_error / len(y_true)\n",
    "    print(\"MAE: \", mea)\n",
    "    return mea"
   ]
  },
  {
   "cell_type": "code",
   "execution_count": 17,
   "id": "a869d6cd-b9fd-4128-a2c3-06687781ed63",
   "metadata": {},
   "outputs": [
    {
     "name": "stdout",
     "output_type": "stream",
     "text": [
      "Total error:  2.5\n",
      "MAE:  0.5\n"
     ]
    },
    {
     "data": {
      "text/plain": [
       "0.5"
      ]
     },
     "execution_count": 17,
     "metadata": {},
     "output_type": "execute_result"
    }
   ],
   "source": [
    "mea(y_true, y_predicted)"
   ]
  },
  {
   "cell_type": "code",
   "execution_count": 18,
   "id": "e81a5449-700c-4c3b-86dc-faba243d6f15",
   "metadata": {},
   "outputs": [
    {
     "data": {
      "text/plain": [
       "0.5"
      ]
     },
     "execution_count": 18,
     "metadata": {},
     "output_type": "execute_result"
    }
   ],
   "source": [
    "np.mean(np.abs(y_predicted - y_true))"
   ]
  },
  {
   "cell_type": "code",
   "execution_count": 19,
   "id": "96f4844d-b08a-47e7-ba6f-80a3e322b22d",
   "metadata": {},
   "outputs": [
    {
     "name": "stderr",
     "output_type": "stream",
     "text": [
      "C:\\Users\\Lenovo\\AppData\\Local\\Temp\\ipykernel_3652\\262464415.py:1: RuntimeWarning: divide by zero encountered in log\n",
      "  np.log([0])\n"
     ]
    },
    {
     "data": {
      "text/plain": [
       "array([-inf])"
      ]
     },
     "execution_count": 19,
     "metadata": {},
     "output_type": "execute_result"
    }
   ],
   "source": [
    "np.log([0])"
   ]
  },
  {
   "cell_type": "code",
   "execution_count": 20,
   "id": "96b478f5-f1f7-47cc-83cb-70bc0e6c32aa",
   "metadata": {},
   "outputs": [
    {
     "data": {
      "text/plain": [
       "array([-85.19564844])"
      ]
     },
     "execution_count": 20,
     "metadata": {},
     "output_type": "execute_result"
    }
   ],
   "source": [
    "np.log([.0000000000000000000000000000000000001])"
   ]
  },
  {
   "cell_type": "code",
   "execution_count": null,
   "id": "754374d9-4e92-4c17-93a9-f00baba13b1d",
   "metadata": {},
   "outputs": [],
   "source": []
  }
 ],
 "metadata": {
  "kernelspec": {
   "display_name": "Python 3 (ipykernel)",
   "language": "python",
   "name": "python3"
  },
  "language_info": {
   "codemirror_mode": {
    "name": "ipython",
    "version": 3
   },
   "file_extension": ".py",
   "mimetype": "text/x-python",
   "name": "python",
   "nbconvert_exporter": "python",
   "pygments_lexer": "ipython3",
   "version": "3.10.14"
  }
 },
 "nbformat": 4,
 "nbformat_minor": 5
}
