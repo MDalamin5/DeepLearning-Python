import torch
import math
import numpy as np



