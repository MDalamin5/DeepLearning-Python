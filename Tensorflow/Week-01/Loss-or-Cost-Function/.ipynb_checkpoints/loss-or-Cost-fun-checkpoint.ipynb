{
 "cells": [
  {
   "cell_type": "code",
   "execution_count": 9,
   "id": "09deb3ee-5564-41d2-9c37-e30314088df7",
   "metadata": {},
   "outputs": [],
   "source": [
    "import numpy as np"
   ]
  },
  {
   "cell_type": "code",
   "execution_count": 10,
   "id": "34512995-084d-4169-bef6-4b9d1d76eda1",
   "metadata": {},
   "outputs": [],
   "source": [
    "y_predicted = np.array([1, 1, 0, 0, 1])\n",
    "y_true = np.array([0.30, 0.7, 1, 0, 0.5])"
   ]
  },
  {
   "cell_type": "code",
   "execution_count": 11,
   "id": "697298f1-bf4d-4ddb-a915-9bc7e02e1618",
   "metadata": {},
   "outputs": [],
   "source": [
    "# zip Function"
   ]
  },
  {
   "cell_type": "code",
   "execution_count": 12,
   "id": "2318213d-1e5d-412d-b428-bc94f9c91b67",
   "metadata": {},
   "outputs": [
    {
     "name": "stdout",
     "output_type": "stream",
     "text": [
      "1 0.3\n",
      "1 0.7\n",
      "0 1.0\n",
      "0 0.0\n",
      "1 0.5\n"
     ]
    }
   ],
   "source": [
    "ziped = zip(y_predicted, y_true)\n",
    "\n",
    "for a, b in ziped:\n",
    "    print(a, b)"
   ]
  },
  {
   "cell_type": "code",
   "execution_count": null,
   "id": "ea77ebb3-fbf4-4654-87cf-51e4654f4a46",
   "metadata": {},
   "outputs": [],
   "source": [
    "def mea(y_true, y_prdicted):\n",
    "    total = 0\n",
    "    "
   ]
  }
 ],
 "metadata": {
  "kernelspec": {
   "display_name": "Python 3 (ipykernel)",
   "language": "python",
   "name": "python3"
  },
  "language_info": {
   "codemirror_mode": {
    "name": "ipython",
    "version": 3
   },
   "file_extension": ".py",
   "mimetype": "text/x-python",
   "name": "python",
   "nbconvert_exporter": "python",
   "pygments_lexer": "ipython3",
   "version": "3.10.14"
  }
 },
 "nbformat": 4,
 "nbformat_minor": 5
}
