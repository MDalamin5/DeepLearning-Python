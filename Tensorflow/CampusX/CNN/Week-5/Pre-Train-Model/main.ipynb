{
 "cells": [
  {
   "cell_type": "markdown",
   "id": "33ca3c85-8bcc-4899-971e-aa23ad11eec6",
   "metadata": {},
   "source": [
    "pre-train-model: https://keras.io/api/applications/"
   ]
  },
  {
   "cell_type": "code",
   "execution_count": 4,
   "id": "92000cd7-d2b4-43d1-a4fd-65ca6f485e93",
   "metadata": {},
   "outputs": [],
   "source": [
    "import tensorflow as tf\n",
    "from tensorflow import keras\n",
    "from tensorflow.keras.applications import ResNet50\n",
    "from tensorflow.keras.applications.resnet50 import preprocess_input, decode_predictions\n",
    "import numpy as np"
   ]
  },
  {
   "cell_type": "code",
   "execution_count": 2,
   "id": "d7fad63d-b525-4f37-8253-e90a5d860625",
   "metadata": {},
   "outputs": [],
   "source": [
    "model = ResNet50(weights='imagenet')"
   ]
  },
  {
   "cell_type": "code",
   "execution_count": 5,
   "id": "7ef2f195-02e1-4c78-965f-1118de646546",
   "metadata": {},
   "outputs": [],
   "source": [
    "img_path = 'cat.jpg'\n",
    "img = keras.utils.load_img(img_path, target_size=(224, 224))\n",
    "x = keras.utils.img_to_array(img)\n",
    "x = np.expand_dims(x, axis=0)\n",
    "x = preprocess_input(x)"
   ]
  },
  {
   "cell_type": "code",
   "execution_count": 6,
   "id": "f97001e0-c55a-437e-b9e6-e5c3cd197c8d",
   "metadata": {},
   "outputs": [
    {
     "name": "stdout",
     "output_type": "stream",
     "text": [
      "1/1 [==============================] - 15s 15s/step\n",
      "Downloading data from https://storage.googleapis.com/download.tensorflow.org/data/imagenet_class_index.json\n",
      "35363/35363 [==============================] - 0s 2us/step\n",
      "Predicted: [('n02124075', 'Egyptian_cat', 0.59280264), ('n02123597', 'Siamese_cat', 0.14622244), ('n02127052', 'lynx', 0.10065757)]\n"
     ]
    }
   ],
   "source": [
    "preds = model.predict(x)\n",
    "# decode the results into a list of tuples (class, description, probability)\n",
    "# (one such list for each sample in the batch)\n",
    "print('Predicted:', decode_predictions(preds, top=3)[0])"
   ]
  }
 ],
 "metadata": {
  "kernelspec": {
   "display_name": "Python 3 (ipykernel)",
   "language": "python",
   "name": "python3"
  },
  "language_info": {
   "codemirror_mode": {
    "name": "ipython",
    "version": 3
   },
   "file_extension": ".py",
   "mimetype": "text/x-python",
   "name": "python",
   "nbconvert_exporter": "python",
   "pygments_lexer": "ipython3",
   "version": "3.12.4"
  }
 },
 "nbformat": 4,
 "nbformat_minor": 5
}
