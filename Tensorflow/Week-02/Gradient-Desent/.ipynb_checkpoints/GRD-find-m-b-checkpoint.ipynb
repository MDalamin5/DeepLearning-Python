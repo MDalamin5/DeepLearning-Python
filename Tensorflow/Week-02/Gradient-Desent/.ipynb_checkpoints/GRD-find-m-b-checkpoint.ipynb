{
 "cells": [
  {
   "cell_type": "code",
   "execution_count": 1,
   "id": "b22609e1-8055-4aa4-842b-79fa6585daaa",
   "metadata": {},
   "outputs": [],
   "source": [
    "from sklearn.datasets import make_regression\n",
    "import numpy as np\n",
    "import matplotlib.pyplot as plt\n",
    "from sklearn.model_selection import cross_val_score"
   ]
  },
  {
   "cell_type": "code",
   "execution_count": null,
   "id": "a445d4ab-6747-489e-aafd-576bc2e40207",
   "metadata": {},
   "outputs": [],
   "source": [
    "X, y = make_regression(n_samples=100, n_features=1, n_informative=1, n_targets=1, noise=20, random_state=13)"
   ]
  },
  {
   "cell_type": "code",
   "execution_count": null,
   "id": "d2ce2138-d48b-4800-bcdb-7a87fb747a59",
   "metadata": {},
   "outputs": [],
   "source": [
    "plt.scatter(X, y)"
   ]
  },
  {
   "cell_type": "code",
   "execution_count": null,
   "id": "711021f2-db2b-4577-b2cd-bb9a85b979d5",
   "metadata": {},
   "outputs": [],
   "source": [
    "from sklearn.model_selection import train_test_split\n",
    "X_train, X_test, y_train, y_test = train_test_split(X, y, test_size=.2, random_state=2)"
   ]
  },
  {
   "cell_type": "code",
   "execution_count": null,
   "id": "6fe07eb6-1770-47a1-9939-6d9c8cf49889",
   "metadata": {},
   "outputs": [],
   "source": [
    "from sklearn.linear_model import LinearRegression\n",
    "reg = LinearRegression()\n",
    "reg.fit(X_train, y_train)"
   ]
  },
  {
   "cell_type": "code",
   "execution_count": null,
   "id": "456e606d-333d-4a37-8e84-885fcf9dbf25",
   "metadata": {},
   "outputs": [],
   "source": [
    "print(reg.coef_)\n",
    "print(reg.intercept_)"
   ]
  },
  {
   "cell_type": "code",
   "execution_count": null,
   "id": "36a4a6ed-3048-4f3d-a030-e4957a16b6d9",
   "metadata": {},
   "outputs": [],
   "source": [
    "y_pred = reg.predict(X_test)\n",
    "from sklearn.metrics import r2_score\n",
    "r2_score(y_test, y_pred)"
   ]
  },
  {
   "cell_type": "code",
   "execution_count": null,
   "id": "f346db9d-3f5b-4072-9fe2-74514e8dbf0d",
   "metadata": {},
   "outputs": [],
   "source": [
    "class GDRegressor:\n",
    "\n",
    "    def __init__(self, learning_rate, epochs):\n",
    "        self.m = 100\n",
    "        self.b = -120\n",
    "        self.lr = learning_rate\n",
    "        self.epochs = epochs\n",
    "\n",
    "    def fit(self, X, y):\n",
    "        for i in range(self.epochs):\n",
    "            lossSlope_b = -2 * np.sum(y - self.m * X.ravel() - self.b)\n",
    "            lossSlope_m = -2 * np.sum((y - self.m * X.ravel() - self.b)*X.ravel())\n",
    "            self.b = self.b - (self.lr * lossSlope_b)\n",
    "            self.m = self.m - (self.lr * lossSlope_m)\n",
    "            # print(\"b-->\",lossSlope_b, \"->\",self.b, \" | \", \"m-->\", lossSlope_m, \"-->\", self.m)\n",
    "        print(self.b, self.m)\n",
    "\n",
    "    def predict(self, X):\n",
    "        return self.m * X + self.b"
   ]
  },
  {
   "cell_type": "code",
   "execution_count": null,
   "id": "dd8c540f-7b63-411d-8b1a-7c54a5ec38a5",
   "metadata": {},
   "outputs": [],
   "source": [
    "gd = GDRegressor(0.001, 50)\n",
    "gd.fit(X_train, y_train)"
   ]
  },
  {
   "cell_type": "code",
   "execution_count": null,
   "id": "65a64705-707d-4d51-bb40-332d1ae8d0e0",
   "metadata": {},
   "outputs": [],
   "source": [
    "y_pred = gd.predict(X_test)\n",
    "from sklearn.metrics import r2_score\n",
    "r2_score(y_test, y_pred)"
   ]
  },
  {
   "cell_type": "code",
   "execution_count": null,
   "id": "ec9357e3-a6bc-424f-912f-ed49eb57c38c",
   "metadata": {},
   "outputs": [],
   "source": []
  }
 ],
 "metadata": {
  "kernelspec": {
   "display_name": "Python 3 (ipykernel)",
   "language": "python",
   "name": "python3"
  },
  "language_info": {
   "codemirror_mode": {
    "name": "ipython",
    "version": 3
   },
   "file_extension": ".py",
   "mimetype": "text/x-python",
   "name": "python",
   "nbconvert_exporter": "python",
   "pygments_lexer": "ipython3",
   "version": "3.10.14"
  }
 },
 "nbformat": 4,
 "nbformat_minor": 5
}
