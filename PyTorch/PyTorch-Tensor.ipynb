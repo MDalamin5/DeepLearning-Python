{
 "cells": [
  {
   "cell_type": "code",
   "execution_count": 1,
   "id": "e615ce82-ef4b-4ad9-b8bb-3c9339746856",
   "metadata": {},
   "outputs": [],
   "source": [
    "import torch\n",
    "import math"
   ]
  },
  {
   "cell_type": "code",
   "execution_count": 2,
   "id": "accbb3ce-d4ae-4524-9aa4-92eb74a85654",
   "metadata": {},
   "outputs": [
    {
     "name": "stdout",
     "output_type": "stream",
     "text": [
      "<class 'torch.Tensor'>\n",
      "tensor([[1.5633e-02, 2.0921e-42, 0.0000e+00, 0.0000e+00],\n",
      "        [0.0000e+00, 0.0000e+00, 0.0000e+00, 0.0000e+00],\n",
      "        [0.0000e+00, 0.0000e+00, 0.0000e+00, 0.0000e+00]])\n"
     ]
    }
   ],
   "source": [
    " x = torch.empty(3, 4)\n",
    "print(type(x))\n",
    "print(x)"
   ]
  },
  {
   "cell_type": "code",
   "execution_count": 3,
   "id": "22c862f1-788c-4f77-bdae-0bb29dcdcfe4",
   "metadata": {},
   "outputs": [
    {
     "name": "stdout",
     "output_type": "stream",
     "text": [
      "Lab is Working\n"
     ]
    }
   ],
   "source": [
    "print('Lab is Working')"
   ]
  },
  {
   "cell_type": "code",
   "execution_count": 12,
   "id": "4db5d4db-8471-4203-a089-33426069a3c2",
   "metadata": {},
   "outputs": [
    {
     "name": "stdout",
     "output_type": "stream",
     "text": [
      "tensor([[0., 0., 0.],\n",
      "        [0., 0., 0.]])\n",
      "tensor([[1., 1., 1.],\n",
      "        [1., 1., 1.]])\n",
      "tensor([[0.3126, 0.3791, 0.3087],\n",
      "        [0.0736, 0.4216, 0.0691]])\n"
     ]
    }
   ],
   "source": [
    "zeros = torch.zeros(2, 3)\n",
    "print(zeros)\n",
    "\n",
    "ones = torch.ones(2, 3)\n",
    "print(ones)\n",
    "\n",
    "torch.manual_seed(1729)\n",
    "random = torch.rand(2, 3)\n",
    "print(random)"
   ]
  },
  {
   "cell_type": "markdown",
   "id": "497c2185-b4c0-4826-9744-4416c72cc26a",
   "metadata": {},
   "source": [
    "## Random and Seeds"
   ]
  },
  {
   "cell_type": "code",
   "execution_count": 13,
   "id": "1e3f1451-631a-488e-8fb4-118b2054186c",
   "metadata": {},
   "outputs": [
    {
     "name": "stdout",
     "output_type": "stream",
     "text": [
      "tensor([[0.1899, 0.8691, 0.7658],\n",
      "        [0.4226, 0.9384, 0.1215],\n",
      "        [0.6385, 0.7225, 0.4647]])\n",
      "tensor([[0.8698, 0.5545, 0.1063],\n",
      "        [0.2686, 0.6807, 0.9143],\n",
      "        [0.9942, 0.3259, 0.0564]])\n",
      "tensor([[0.1899, 0.8691, 0.7658],\n",
      "        [0.4226, 0.9384, 0.1215],\n",
      "        [0.6385, 0.7225, 0.4647]])\n"
     ]
    }
   ],
   "source": [
    "torch.manual_seed(122)\n",
    "random1 = torch.rand(3, 3)\n",
    "print(random1)\n",
    "\n",
    "random2 = torch.rand(3, 3)\n",
    "print(random2)\n",
    "\n",
    "torch.manual_seed(122)\n",
    "random3 = torch.rand(3, 3)\n",
    "print(random3)"
   ]
  },
  {
   "cell_type": "markdown",
   "id": "9eb740d7-ef8e-41b9-9ba6-08676f3abcb3",
   "metadata": {},
   "source": [
    "# Tensor Shapes"
   ]
  },
  {
   "cell_type": "code",
   "execution_count": 17,
   "id": "18f6032b-2a73-40a3-95ca-e14049c3a4e4",
   "metadata": {},
   "outputs": [
    {
     "name": "stdout",
     "output_type": "stream",
     "text": [
      "torch.Size([2, 2, 3])\n",
      "tensor([[[1.5634e-02, 2.0921e-42, 1.4013e-45],\n",
      "         [0.0000e+00, 1.4013e-45, 0.0000e+00]],\n",
      "\n",
      "        [[1.4013e-45, 0.0000e+00, 1.4013e-45],\n",
      "         [0.0000e+00, 1.4013e-45, 0.0000e+00]]])\n",
      "torch.Size([2, 2, 3])\n",
      "tensor([[[0., 0., 0.],\n",
      "         [0., 0., 0.]],\n",
      "\n",
      "        [[0., 0., 0.],\n",
      "         [0., 0., 0.]]])\n",
      "torch.Size([2, 2, 3])\n",
      "tensor([[[0., 0., 0.],\n",
      "         [0., 0., 0.]],\n",
      "\n",
      "        [[0., 0., 0.],\n",
      "         [0., 0., 0.]]])\n",
      "torch.Size([2, 2, 3])\n",
      "tensor([[[0.8698, 0.5545, 0.1063],\n",
      "         [0.2686, 0.6807, 0.9143]],\n",
      "\n",
      "        [[0.9942, 0.3259, 0.0564],\n",
      "         [0.7371, 0.8574, 0.5293]]])\n"
     ]
    }
   ],
   "source": [
    "x = torch.empty(2, 2, 3)\n",
    "print(x.shape)\n",
    "print(x)\n",
    "\n",
    "empty_like_x = torch.empty_like(x)\n",
    "print(empty_like_x.shape)\n",
    "print(empty_like_x)\n",
    "\n",
    "zeros_like_x = torch.zeros_like(x)\n",
    "print(zeros_like_x.shape)\n",
    "print(zeros_like_x)\n",
    "\n",
    "random_like_x = torch.rand_like(x)\n",
    "print(random_like_x.shape)\n",
    "print(random_like_x)"
   ]
  },
  {
   "cell_type": "markdown",
   "id": "44cf1220-04a9-4866-a4f4-c3112deaa685",
   "metadata": {},
   "source": [
    "## Tensor data by user"
   ]
  },
  {
   "cell_type": "code",
   "execution_count": 27,
   "id": "0fefcdb1-2101-4e88-a943-5b782f7b0034",
   "metadata": {},
   "outputs": [
    {
     "name": "stdout",
     "output_type": "stream",
     "text": [
      "torch.Size([3, 4])\n",
      "tensor([[ 1,  2,  3,  4],\n",
      "        [ 1, 34,  5, 67],\n",
      "        [ 1,  3, 45, 55]])\n",
      "torch.Size([9])\n",
      "tensor([1, 2, 4, 7, 5, 7, 4, 6, 7])\n",
      "torch.Size([2, 6])\n",
      "tensor([[ 1,  2,  3,  4,  5,  6],\n",
      "        [ 2,  3, 45,  6,  7,  5]])\n"
     ]
    }
   ],
   "source": [
    "some_constants = torch.tensor([\n",
    "    [1, 2, 3, 4],\n",
    "    [1, 34, 5, 67],\n",
    "    [1, 3, 45, 55]\n",
    "])\n",
    "print(some_constants.shape)\n",
    "print(some_constants)\n",
    "\n",
    "some_int = torch.tensor((1, 2, 4, 7,5 ,7, 4, 6, 7))\n",
    "print(some_int.shape)\n",
    "print(some_int)\n",
    "\n",
    "some_1d_int = torch.tensor(\n",
    "    ([1, 2, 3, 4, 5, 6], [2, 3, 45, 6,7, 5])\n",
    "    \n",
    ")\n",
    "print(some_1d_int.shape)\n",
    "print(some_1d_int)"
   ]
  },
  {
   "cell_type": "markdown",
   "id": "de29b643-1b49-46b4-9aa8-e64c819fda08",
   "metadata": {},
   "source": [
    "## Tensor Data Types\n",
    "\n",
    "#### torch.tensor() creates a copy of the data"
   ]
  },
  {
   "cell_type": "code",
   "execution_count": 31,
   "id": "aaa1e55e-89c1-4320-ae0e-f5d393aa9a62",
   "metadata": {},
   "outputs": [
    {
     "name": "stdout",
     "output_type": "stream",
     "text": [
      "tensor([[1, 1, 1],\n",
      "        [1, 1, 1]], dtype=torch.int16)\n",
      "tensor([[ 7.2266, 12.1797,  2.9980],\n",
      "        [ 2.6855,  1.3770,  0.3125]], dtype=torch.float16)\n",
      "tensor([[ 7, 12,  2],\n",
      "        [ 2,  1,  0]], dtype=torch.int32)\n"
     ]
    }
   ],
   "source": [
    "a = torch.ones((2, 3), dtype = torch.int16)\n",
    "print(a)\n",
    "\n",
    "b = torch.rand((2, 3), dtype = torch.float16) * 20\n",
    "print(b)\n",
    "\n",
    "c = b.to(torch.int32)\n",
    "print(c)"
   ]
  },
  {
   "cell_type": "code",
   "execution_count": null,
   "id": "45e830b7-2c5f-4d54-ba1a-9336b5227ad8",
   "metadata": {},
   "outputs": [],
   "source": []
  }
 ],
 "metadata": {
  "kernelspec": {
   "display_name": "Python 3 (ipykernel)",
   "language": "python",
   "name": "python3"
  },
  "language_info": {
   "codemirror_mode": {
    "name": "ipython",
    "version": 3
   },
   "file_extension": ".py",
   "mimetype": "text/x-python",
   "name": "python",
   "nbconvert_exporter": "python",
   "pygments_lexer": "ipython3",
   "version": "3.12.4"
  }
 },
 "nbformat": 4,
 "nbformat_minor": 5
}
