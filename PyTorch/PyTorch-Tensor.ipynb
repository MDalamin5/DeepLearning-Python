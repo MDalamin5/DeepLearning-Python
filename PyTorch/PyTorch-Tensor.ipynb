{
 "cells": [
  {
   "cell_type": "code",
   "execution_count": 1,
   "id": "e615ce82-ef4b-4ad9-b8bb-3c9339746856",
   "metadata": {},
   "outputs": [],
   "source": [
    "import torch\n",
    "import math"
   ]
  },
  {
   "cell_type": "code",
   "execution_count": 2,
   "id": "accbb3ce-d4ae-4524-9aa4-92eb74a85654",
   "metadata": {},
   "outputs": [
    {
     "name": "stdout",
     "output_type": "stream",
     "text": [
      "<class 'torch.Tensor'>\n",
      "tensor([[0., 0., 0., 0.],\n",
      "        [0., 0., 0., 0.],\n",
      "        [0., 0., 0., 0.]])\n"
     ]
    }
   ],
   "source": [
    " x = torch.empty(3, 4)\n",
    "print(type(x))\n",
    "print(x)"
   ]
  },
  {
   "cell_type": "code",
   "execution_count": 3,
   "id": "22c862f1-788c-4f77-bdae-0bb29dcdcfe4",
   "metadata": {},
   "outputs": [
    {
     "name": "stdout",
     "output_type": "stream",
     "text": [
      "Lab is Working\n"
     ]
    }
   ],
   "source": [
    "print('Lab is Working')"
   ]
  },
  {
   "cell_type": "code",
   "execution_count": 4,
   "id": "4db5d4db-8471-4203-a089-33426069a3c2",
   "metadata": {},
   "outputs": [
    {
     "name": "stdout",
     "output_type": "stream",
     "text": [
      "tensor([[0., 0., 0.],\n",
      "        [0., 0., 0.]])\n",
      "tensor([[1., 1., 1.],\n",
      "        [1., 1., 1.]])\n",
      "tensor([[0.3126, 0.3791, 0.3087],\n",
      "        [0.0736, 0.4216, 0.0691]])\n"
     ]
    }
   ],
   "source": [
    "zeros = torch.zeros(2, 3)\n",
    "print(zeros)\n",
    "\n",
    "ones = torch.ones(2, 3)\n",
    "print(ones)\n",
    "\n",
    "torch.manual_seed(1729)\n",
    "random = torch.rand(2, 3)\n",
    "print(random)"
   ]
  },
  {
   "cell_type": "markdown",
   "id": "497c2185-b4c0-4826-9744-4416c72cc26a",
   "metadata": {},
   "source": [
    "## Random and Seeds"
   ]
  },
  {
   "cell_type": "code",
   "execution_count": 5,
   "id": "1e3f1451-631a-488e-8fb4-118b2054186c",
   "metadata": {},
   "outputs": [
    {
     "name": "stdout",
     "output_type": "stream",
     "text": [
      "tensor([[0.1899, 0.8691, 0.7658],\n",
      "        [0.4226, 0.9384, 0.1215],\n",
      "        [0.6385, 0.7225, 0.4647]])\n",
      "tensor([[0.8698, 0.5545, 0.1063],\n",
      "        [0.2686, 0.6807, 0.9143],\n",
      "        [0.9942, 0.3259, 0.0564]])\n",
      "tensor([[0.1899, 0.8691, 0.7658],\n",
      "        [0.4226, 0.9384, 0.1215],\n",
      "        [0.6385, 0.7225, 0.4647]])\n"
     ]
    }
   ],
   "source": [
    "torch.manual_seed(122)\n",
    "random1 = torch.rand(3, 3)\n",
    "print(random1)\n",
    "\n",
    "random2 = torch.rand(3, 3)\n",
    "print(random2)\n",
    "\n",
    "torch.manual_seed(122)\n",
    "random3 = torch.rand(3, 3)\n",
    "print(random3)"
   ]
  },
  {
   "cell_type": "markdown",
   "id": "9eb740d7-ef8e-41b9-9ba6-08676f3abcb3",
   "metadata": {},
   "source": [
    "# Tensor Shapes"
   ]
  },
  {
   "cell_type": "code",
   "execution_count": 6,
   "id": "18f6032b-2a73-40a3-95ca-e14049c3a4e4",
   "metadata": {},
   "outputs": [
    {
     "name": "stdout",
     "output_type": "stream",
     "text": [
      "torch.Size([2, 2, 3])\n",
      "tensor([[[0., 0., 0.],\n",
      "         [0., 0., 0.]],\n",
      "\n",
      "        [[0., 0., 0.],\n",
      "         [0., 0., 0.]]])\n",
      "torch.Size([2, 2, 3])\n",
      "tensor([[[0., 0., 0.],\n",
      "         [0., 0., 0.]],\n",
      "\n",
      "        [[0., 0., 0.],\n",
      "         [0., 0., 0.]]])\n",
      "torch.Size([2, 2, 3])\n",
      "tensor([[[0., 0., 0.],\n",
      "         [0., 0., 0.]],\n",
      "\n",
      "        [[0., 0., 0.],\n",
      "         [0., 0., 0.]]])\n",
      "torch.Size([2, 2, 3])\n",
      "tensor([[[0.8698, 0.5545, 0.1063],\n",
      "         [0.2686, 0.6807, 0.9143]],\n",
      "\n",
      "        [[0.9942, 0.3259, 0.0564],\n",
      "         [0.7371, 0.8574, 0.5293]]])\n"
     ]
    }
   ],
   "source": [
    "x = torch.empty(2, 2, 3)\n",
    "print(x.shape)\n",
    "print(x)\n",
    "\n",
    "empty_like_x = torch.empty_like(x)\n",
    "print(empty_like_x.shape)\n",
    "print(empty_like_x)\n",
    "\n",
    "zeros_like_x = torch.zeros_like(x)\n",
    "print(zeros_like_x.shape)\n",
    "print(zeros_like_x)\n",
    "\n",
    "random_like_x = torch.rand_like(x)\n",
    "print(random_like_x.shape)\n",
    "print(random_like_x)"
   ]
  },
  {
   "cell_type": "markdown",
   "id": "44cf1220-04a9-4866-a4f4-c3112deaa685",
   "metadata": {},
   "source": [
    "## Tensor data by user"
   ]
  },
  {
   "cell_type": "code",
   "execution_count": 7,
   "id": "0fefcdb1-2101-4e88-a943-5b782f7b0034",
   "metadata": {},
   "outputs": [
    {
     "name": "stdout",
     "output_type": "stream",
     "text": [
      "torch.Size([3, 4])\n",
      "tensor([[ 1,  2,  3,  4],\n",
      "        [ 1, 34,  5, 67],\n",
      "        [ 1,  3, 45, 55]])\n",
      "torch.Size([9])\n",
      "tensor([1, 2, 4, 7, 5, 7, 4, 6, 7])\n",
      "torch.Size([2, 6])\n",
      "tensor([[ 1,  2,  3,  4,  5,  6],\n",
      "        [ 2,  3, 45,  6,  7,  5]])\n"
     ]
    }
   ],
   "source": [
    "some_constants = torch.tensor([\n",
    "    [1, 2, 3, 4],\n",
    "    [1, 34, 5, 67],\n",
    "    [1, 3, 45, 55]\n",
    "])\n",
    "print(some_constants.shape)\n",
    "print(some_constants)\n",
    "\n",
    "some_int = torch.tensor((1, 2, 4, 7,5 ,7, 4, 6, 7))\n",
    "print(some_int.shape)\n",
    "print(some_int)\n",
    "\n",
    "some_1d_int = torch.tensor(\n",
    "    ([1, 2, 3, 4, 5, 6], [2, 3, 45, 6,7, 5])\n",
    "    \n",
    ")\n",
    "print(some_1d_int.shape)\n",
    "print(some_1d_int)"
   ]
  },
  {
   "cell_type": "markdown",
   "id": "de29b643-1b49-46b4-9aa8-e64c819fda08",
   "metadata": {},
   "source": [
    "## Tensor Data Types\n",
    "\n",
    "#### torch.tensor() creates a copy of the data"
   ]
  },
  {
   "cell_type": "code",
   "execution_count": 8,
   "id": "aaa1e55e-89c1-4320-ae0e-f5d393aa9a62",
   "metadata": {},
   "outputs": [
    {
     "name": "stdout",
     "output_type": "stream",
     "text": [
      "tensor([[1, 1, 1],\n",
      "        [1, 1, 1]], dtype=torch.int16)\n",
      "tensor([[ 7.2266, 12.1797,  2.9980],\n",
      "        [ 2.6855,  1.3770,  0.3125]], dtype=torch.float16)\n",
      "tensor([[ 7, 12,  2],\n",
      "        [ 2,  1,  0]], dtype=torch.int32)\n"
     ]
    }
   ],
   "source": [
    "a = torch.ones((2, 3), dtype = torch.int16)\n",
    "print(a)\n",
    "\n",
    "b = torch.rand((2, 3), dtype = torch.float16) * 20\n",
    "print(b)\n",
    "\n",
    "c = b.to(torch.int32)\n",
    "print(c)"
   ]
  },
  {
   "cell_type": "markdown",
   "id": "5e1fc476-cdfa-4de2-85ab-6be6195924e8",
   "metadata": {},
   "source": [
    "## Math & Logic with PyTorch Tensor"
   ]
  },
  {
   "cell_type": "code",
   "execution_count": 14,
   "id": "474fb0e7-dc03-4c8a-ba88-6353dd97d603",
   "metadata": {},
   "outputs": [
    {
     "name": "stdout",
     "output_type": "stream",
     "text": [
      "tensor([[2., 2., 2.],\n",
      "        [2., 2., 2.]])\n",
      "tensor([[40., 40., 40.],\n",
      "        [40., 40., 40.]])\n",
      "tensor([[2.7492, 2.9901, 0.3687],\n",
      "        [2.3535, 2.4160, 1.9571],\n",
      "        [2.7863, 1.2011, 0.6732]])\n",
      "tensor([[8., 8., 8.],\n",
      "        [8., 8., 8.]])\n"
     ]
    }
   ],
   "source": [
    "ones = torch.ones(2, 3) + 1\n",
    "tows = torch.zeros(2, 3) + 40\n",
    "threes = torch.rand(3, 3) * 3\n",
    "fours = ones ** 3\n",
    "\n",
    "print(ones)\n",
    "print(tows)\n",
    "print(threes)\n",
    "print(fours)"
   ]
  },
  {
   "cell_type": "code",
   "execution_count": 15,
   "id": "7443064a-a518-4378-a21f-d952558b29d9",
   "metadata": {},
   "outputs": [
    {
     "name": "stdout",
     "output_type": "stream",
     "text": [
      "tensor([[2., 2., 2.],\n",
      "        [2., 2., 2.]])\n"
     ]
    }
   ],
   "source": [
    "a = torch.ones(2, 3)\n",
    "b = torch.ones(2, 3)\n",
    "\n",
    "print(a + b)"
   ]
  },
  {
   "cell_type": "code",
   "execution_count": 29,
   "id": "8332dd99-d69b-4525-90e3-c4147709b431",
   "metadata": {},
   "outputs": [
    {
     "name": "stdout",
     "output_type": "stream",
     "text": [
      "tensor([[[4., 4.],\n",
      "         [4., 4.],\n",
      "         [4., 4.]],\n",
      "\n",
      "        [[4., 4.],\n",
      "         [4., 4.],\n",
      "         [4., 4.]],\n",
      "\n",
      "        [[4., 4.],\n",
      "         [4., 4.],\n",
      "         [4., 4.]],\n",
      "\n",
      "        [[4., 4.],\n",
      "         [4., 4.],\n",
      "         [4., 4.]]])\n",
      "tensor([[[0.6010, 0.6010],\n",
      "         [1.2598, 1.2598],\n",
      "         [1.1961, 1.1961]],\n",
      "\n",
      "        [[0.6010, 0.6010],\n",
      "         [1.2598, 1.2598],\n",
      "         [1.1961, 1.1961]],\n",
      "\n",
      "        [[0.6010, 0.6010],\n",
      "         [1.2598, 1.2598],\n",
      "         [1.1961, 1.1961]],\n",
      "\n",
      "        [[0.6010, 0.6010],\n",
      "         [1.2598, 1.2598],\n",
      "         [1.1961, 1.1961]]])\n"
     ]
    }
   ],
   "source": [
    "a = torch.ones(4, 3, 2) + 2\n",
    "# print(a)\n",
    "b = a * torch.ones( 3, 2) + 1\n",
    "print(b)\n",
    "\n",
    "c = a * torch.rand(3, 1)\n",
    "print(c)\n"
   ]
  },
  {
   "cell_type": "markdown",
   "id": "9146bb6d-1a87-40c3-893d-0f7df50e3494",
   "metadata": {},
   "source": [
    "## More Math With Tensor"
   ]
  },
  {
   "cell_type": "code",
   "execution_count": 30,
   "id": "dd99a452-8248-49d6-b034-638660624926",
   "metadata": {},
   "outputs": [
    {
     "name": "stdout",
     "output_type": "stream",
     "text": [
      "Common Functions: \n",
      "tensor([[0.2237, 0.2567, 0.8991, 0.0963],\n",
      "        [0.1253, 0.4079, 0.2787, 0.4276]])\n",
      "tensor([[1., 1., -0., 1.],\n",
      "        [-0., 1., -0., -0.]])\n",
      "tensor([[ 0.,  0., -1.,  0.],\n",
      "        [-1.,  0., -1., -1.]])\n",
      "tensor([[ 0.2237,  0.2567, -0.5000,  0.0963],\n",
      "        [-0.1253,  0.4079, -0.2787, -0.4276]])\n"
     ]
    }
   ],
   "source": [
    "a = torch.rand(2, 4) * 2 - 1\n",
    "print('Common Functions: ')\n",
    "\n",
    "print(torch.abs(a))\n",
    "print(torch.ceil(a))\n",
    "print(torch.floor(a))\n",
    "print(torch.clamp(a, -.5, 0.5))"
   ]
  },
  {
   "cell_type": "markdown",
   "id": "1de7967e-c033-4e49-8416-48c532a1610f",
   "metadata": {},
   "source": [
    "### Trigometric Function and their invers"
   ]
  },
  {
   "cell_type": "code",
   "execution_count": 31,
   "id": "37467b56-602c-4ae5-a4bd-b206271e1c05",
   "metadata": {},
   "outputs": [
    {
     "name": "stdout",
     "output_type": "stream",
     "text": [
      "\n",
      "Sine and arcsine:\n",
      "tensor([0.0000, 0.7854, 1.5708, 2.3562])\n",
      "tensor([0.0000, 0.7071, 1.0000, 0.7071])\n",
      "tensor([0.0000, 0.7854, 1.5708, 0.7854])\n"
     ]
    }
   ],
   "source": [
    "angles = torch.tensor([0, math.pi/4, math.pi/2, 3 * math.pi/4])\n",
    "sines = torch.sin(angles)\n",
    "inverses = torch.asin(sines)\n",
    "print('\\nSine and arcsine:')\n",
    "print(angles)\n",
    "print(sines)\n",
    "print(inverses)"
   ]
  },
  {
   "cell_type": "markdown",
   "id": "f0421887-4c9a-4f97-b4ab-ece923d76b32",
   "metadata": {},
   "source": [
    "### Bitwise Operations"
   ]
  },
  {
   "cell_type": "code",
   "execution_count": 33,
   "id": "b7463311-5935-4a5b-8ede-4dc6e1134b75",
   "metadata": {},
   "outputs": [
    {
     "name": "stdout",
     "output_type": "stream",
     "text": [
      "tensor([[0, 1],\n",
      "        [0, 0]])\n"
     ]
    }
   ],
   "source": [
    "b = torch.tensor([[1, 2], [1, 4]])\n",
    "c = torch.tensor([[1, 3], [1, 4]])\n",
    "\n",
    "print(torch.bitwise_xor(b, c))"
   ]
  },
  {
   "cell_type": "code",
   "execution_count": 34,
   "id": "4a56f81a-c8a8-43bf-ae79-a8d84ba509bb",
   "metadata": {},
   "outputs": [
    {
     "name": "stdout",
     "output_type": "stream",
     "text": [
      "tensor([[False, False, False],\n",
      "        [False, False, False]])\n"
     ]
    }
   ],
   "source": [
    "a = torch.ones(2, 3)\n",
    "b = torch.zeros(2, 3)\n",
    "\n",
    "print(torch.eq(a, b))"
   ]
  },
  {
   "cell_type": "code",
   "execution_count": 35,
   "id": "7b766493-1f57-4a7f-8f6a-081ec28c4ba6",
   "metadata": {},
   "outputs": [
    {
     "name": "stdout",
     "output_type": "stream",
     "text": [
      "tensor([[True, True, True],\n",
      "        [True, True, True]])\n"
     ]
    }
   ],
   "source": [
    "a = torch.ones(2, 3) - 1\n",
    "b = torch.zeros(2, 3)\n",
    "\n",
    "print(torch.eq(a, b))"
   ]
  },
  {
   "cell_type": "code",
   "execution_count": 40,
   "id": "de1b12c0-133f-473e-acef-b6767391e279",
   "metadata": {},
   "outputs": [
    {
     "name": "stdout",
     "output_type": "stream",
     "text": [
      "tensor(6., dtype=torch.float64)\n"
     ]
    }
   ],
   "source": [
    "d = torch.tensor([[1, 2, 3, 4], [2, 3, 5, 6]], dtype=torch.float64)\n",
    "\n",
    "print(torch.max(d))"
   ]
  },
  {
   "cell_type": "code",
   "execution_count": 38,
   "id": "ae6a7bac-a52f-4693-bc9d-8668f8561964",
   "metadata": {},
   "outputs": [
    {
     "data": {
      "text/plain": [
       "6"
      ]
     },
     "execution_count": 38,
     "metadata": {},
     "output_type": "execute_result"
    }
   ],
   "source": [
    "torch.max(d).item()"
   ]
  },
  {
   "cell_type": "code",
   "execution_count": 41,
   "id": "775bd3bc-866c-48ef-9594-936ff1ece94d",
   "metadata": {},
   "outputs": [
    {
     "data": {
      "text/plain": [
       "tensor(3.2500, dtype=torch.float64)"
      ]
     },
     "execution_count": 41,
     "metadata": {},
     "output_type": "execute_result"
    }
   ],
   "source": [
    "torch.mean(d)"
   ]
  },
  {
   "cell_type": "code",
   "execution_count": 42,
   "id": "4171100f-c0a3-4e3d-b647-6fb080baaad9",
   "metadata": {},
   "outputs": [
    {
     "data": {
      "text/plain": [
       "tensor(1.6690, dtype=torch.float64)"
      ]
     },
     "execution_count": 42,
     "metadata": {},
     "output_type": "execute_result"
    }
   ],
   "source": [
    "torch.std(d)"
   ]
  },
  {
   "cell_type": "code",
   "execution_count": 43,
   "id": "9850f30b-7826-4c03-ad03-d9432456da9e",
   "metadata": {},
   "outputs": [
    {
     "data": {
      "text/plain": [
       "tensor(4320., dtype=torch.float64)"
      ]
     },
     "execution_count": 43,
     "metadata": {},
     "output_type": "execute_result"
    }
   ],
   "source": [
    "torch.prod(d)"
   ]
  },
  {
   "cell_type": "code",
   "execution_count": 44,
   "id": "f2af837a-75c5-4517-a3cc-8f4521d8c49f",
   "metadata": {},
   "outputs": [
    {
     "data": {
      "text/plain": [
       "tensor([1, 2, 3])"
      ]
     },
     "execution_count": 44,
     "metadata": {},
     "output_type": "execute_result"
    }
   ],
   "source": [
    "torch.unique(torch.tensor([1, 2, 1, 2, 3, 2, 2]))"
   ]
  },
  {
   "cell_type": "markdown",
   "id": "31747b60-062b-40c4-8010-96b07c6a917b",
   "metadata": {},
   "source": [
    "## Vector and Liner algebra Operations"
   ]
  },
  {
   "cell_type": "code",
   "execution_count": 46,
   "id": "e224e3de-08e2-4cb2-bbe0-70b8996bd472",
   "metadata": {},
   "outputs": [
    {
     "name": "stdout",
     "output_type": "stream",
     "text": [
      "tensor([0., 0., 1.])\n",
      "tensor([[0.9269, 0.7869],\n",
      "        [0.1006, 0.1454]])\n"
     ]
    }
   ],
   "source": [
    "v1 = torch.tensor([1., 0., 0.])\n",
    "v2 = torch.tensor([0., 1., 0.])\n",
    "\n",
    "m1 = torch.rand(2, 2)\n",
    "m2 = torch.tensor([[3., 0.], [0., 3.]])\n",
    "\n",
    "print(torch.linalg.cross(v1, v2))\n",
    "print(m1)\n"
   ]
  },
  {
   "cell_type": "code",
   "execution_count": 50,
   "id": "4b245076-d6ac-4430-830d-0220fa2887f8",
   "metadata": {},
   "outputs": [
    {
     "data": {
      "text/plain": [
       "tensor([[2.7806, 2.3606],\n",
       "        [0.3017, 0.4361]])"
      ]
     },
     "execution_count": 50,
     "metadata": {},
     "output_type": "execute_result"
    }
   ],
   "source": [
    "m3 = torch.linalg.matmul(m1, m2)\n",
    "m3"
   ]
  },
  {
   "cell_type": "code",
   "execution_count": 51,
   "id": "5572e4e7-b742-4871-97c6-1c171d2e0e22",
   "metadata": {},
   "outputs": [
    {
     "name": "stdout",
     "output_type": "stream",
     "text": [
      "torch.return_types.svd(\n",
      "U=tensor([[-0.9903, -0.1393],\n",
      "        [-0.1393,  0.9903]]),\n",
      "S=tensor([3.6833, 0.1359]),\n",
      "V=tensor([[-0.7590, -0.6511],\n",
      "        [-0.6511,  0.7590]]))\n"
     ]
    }
   ],
   "source": [
    "print(torch.svd(m3))"
   ]
  },
  {
   "cell_type": "code",
   "execution_count": null,
   "id": "88fd7a87-1193-47b9-b761-9861398d0bda",
   "metadata": {},
   "outputs": [],
   "source": []
  }
 ],
 "metadata": {
  "kernelspec": {
   "display_name": "Python 3 (ipykernel)",
   "language": "python",
   "name": "python3"
  },
  "language_info": {
   "codemirror_mode": {
    "name": "ipython",
    "version": 3
   },
   "file_extension": ".py",
   "mimetype": "text/x-python",
   "name": "python",
   "nbconvert_exporter": "python",
   "pygments_lexer": "ipython3",
   "version": "3.12.4"
  }
 },
 "nbformat": 4,
 "nbformat_minor": 5
}
