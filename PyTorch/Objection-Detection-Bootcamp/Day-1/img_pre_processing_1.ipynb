{
 "cells": [
  {
   "cell_type": "markdown",
   "id": "da8da4cd-74c6-4084-9406-2feea3cf082a",
   "metadata": {},
   "source": [
    "# What is an Image?\n",
    "\n",
    "An image is a two-dimensional array of pixel values where each pixel represents the color information at a specific point. Images can be grayscale (where each pixel is a shade of gray) or color images, where each pixel is represented by three or four values corresponding to the primary color channels (e.g., RGB).\n",
    "\n",
    "- Digital Image: Stored as a matrix of pixel values.\n",
    "- Color Image: Each pixel is represented by a tuple (e.g., (255, 0, 0) for red in RGB)."
   ]
  },
  {
   "cell_type": "code",
   "execution_count": 2,
   "id": "89f52c12-4ecc-47dc-a244-070a8611681a",
   "metadata": {},
   "outputs": [],
   "source": [
    "from PIL import Image"
   ]
  },
  {
   "cell_type": "markdown",
   "id": "0a4a72e5-88b0-44b0-80c0-ebe3d0eaeed7",
   "metadata": {},
   "source": [
    "## Creating RGB image with PIL"
   ]
  },
  {
   "cell_type": "code",
   "execution_count": 3,
   "id": "9c9ee97e-c5c4-4741-938f-22b5d1ea4690",
   "metadata": {},
   "outputs": [],
   "source": [
    "# create image with orange collor\n",
    "image = Image.new(\"RGB\", (100, 100), (255, 100, 0))"
   ]
  },
  {
   "cell_type": "code",
   "execution_count": 4,
   "id": "8425873e-e36a-43f9-9a6e-6b8f5efe553f",
   "metadata": {},
   "outputs": [
    {
     "data": {
      "image/jpeg": "[encoded data removed]",
      "image/png": "[encoded data removed]",
      "text/plain": [
       "<PIL.Image.Image image mode=RGB size=100x100>"
      ]
     },
     "execution_count": 4,
     "metadata": {},
     "output_type": "execute_result"
    }
   ],
   "source": [
    "image"
   ]
  },
  {
   "cell_type": "code",
   "execution_count": 5,
   "id": "f1ea2d5a-93f8-4f6d-a1ae-440bbca36438",
   "metadata": {},
   "outputs": [
    {
     "name": "stdout",
     "output_type": "stream",
     "text": [
      "<class 'PIL.Image.Image'>\n",
      "(100, 100)\n",
      "RGB\n",
      "('R', 'G', 'B')\n"
     ]
    }
   ],
   "source": [
    "print(type(image))\n",
    "print(image.size)\n",
    "print(image.mode)\n",
    "print(image.getbands())"
   ]
  },
  {
   "cell_type": "markdown",
   "id": "7b22ecde-2dbd-4a67-b8f8-fb0a9fba9eb6",
   "metadata": {},
   "source": [
    "# Creating B/W or gray-scale image with PIL"
   ]
  },
  {
   "cell_type": "code",
   "execution_count": 9,
   "id": "b10f8ab3-5859-4ae7-9f0f-73f24981a634",
   "metadata": {},
   "outputs": [],
   "source": [
    "# Create image with orange color\n",
    "image_bw = Image.new(\"L\", (100, 100), (100))  # L = lite"
   ]
  },
  {
   "cell_type": "code",
   "execution_count": 7,
   "id": "2bcc5ecb-b86b-4978-9020-5fed770d1844",
   "metadata": {},
   "outputs": [
    {
     "data": {
      "image/jpeg": "[encoded data removed]",
      "image/png": "[encoded data removed]",
      "text/plain": [
       "<PIL.Image.Image image mode=L size=100x100>"
      ]
     },
     "execution_count": 7,
     "metadata": {},
     "output_type": "execute_result"
    }
   ],
   "source": [
    "image_bw"
   ]
  },
  {
   "cell_type": "code",
   "execution_count": 8,
   "id": "a4ac792e-47dd-416a-b3c4-7b816f9137c6",
   "metadata": {},
   "outputs": [
    {
     "name": "stdout",
     "output_type": "stream",
     "text": [
      "<class 'PIL.Image.Image'>\n",
      "(100, 100)\n",
      "L\n",
      "('L',)\n"
     ]
    }
   ],
   "source": [
    "print(type(image_bw))\n",
    "\n",
    "print(image_bw.size)\n",
    "\n",
    "print(image_bw.mode)\n",
    "\n",
    "print(image_bw.getbands())"
   ]
  },
  {
   "cell_type": "markdown",
   "id": "7bec3a8f-fecc-4f22-9d93-8360511dfb60",
   "metadata": {},
   "source": [
    "## Creating RGB image with Numpy and OpenCV"
   ]
  },
  {
   "cell_type": "code",
   "execution_count": 10,
   "id": "083ebe37-780c-42c6-9efe-e61d14120062",
   "metadata": {},
   "outputs": [],
   "source": [
    "import numpy as np\n",
    "import cv2"
   ]
  },
  {
   "cell_type": "code",
   "execution_count": 11,
   "id": "cfc9353f-ef86-4586-afc6-8e2c2c51b9f7",
   "metadata": {},
   "outputs": [],
   "source": [
    " # Creating a blank image with black pixels\n",
    "image_opencv = np.zeros((500, 500, 3), np.uint8)"
   ]
  },
  {
   "cell_type": "code",
   "execution_count": 13,
   "id": "fc6b67d0-f59d-4c82-a861-24d860913d54",
   "metadata": {},
   "outputs": [],
   "source": [
    "image_opencv[:] = (0, 100, 255)"
   ]
  },
  {
   "cell_type": "code",
   "execution_count": 16,
   "id": "baba589e-3760-4a0c-ba39-c540ad590e80",
   "metadata": {},
   "outputs": [
    {
     "name": "stdout",
     "output_type": "stream",
     "text": [
      "(500, 500, 3)\n",
      "500\n"
     ]
    }
   ],
   "source": [
    "print(image_opencv.shape)\n",
    "print(len(image_opencv))"
   ]
  },
  {
   "cell_type": "code",
   "execution_count": 18,
   "id": "9eb01a00-00bd-4ffd-8b65-97a112d9f8f6",
   "metadata": {},
   "outputs": [],
   "source": [
    "# display the images\n",
    "cv2.imshow('Orange Image', image_opencv)\n",
    "cv2.waitKey(0)\n",
    "cv2.destroyAllWindows()"
   ]
  },
  {
   "cell_type": "markdown",
   "id": "7b66487b-018e-4356-9428-3f5460d530f4",
   "metadata": {},
   "source": [
    "# Creating BW image with Numpy and OpenCV"
   ]
  },
  {
   "cell_type": "code",
   "execution_count": 19,
   "id": "1b9a45c5-79ab-4e3b-9852-7f5766728698",
   "metadata": {},
   "outputs": [],
   "source": [
    "image_opencv_bw = np.zeros((500, 500, 1), np.uint8) # dim 1 means gray scale image\n",
    "image_opencv_bw[:] = (140)"
   ]
  },
  {
   "cell_type": "code",
   "execution_count": 20,
   "id": "43e7cd3d-db2e-4593-9854-13a15a8c616d",
   "metadata": {},
   "outputs": [
    {
     "name": "stdout",
     "output_type": "stream",
     "text": [
      "(500, 500, 1)\n",
      "500\n"
     ]
    }
   ],
   "source": [
    "print(image_opencv_bw.shape)\n",
    "\n",
    "print(len(image_opencv_bw))"
   ]
  },
  {
   "cell_type": "code",
   "execution_count": 21,
   "id": "0ee8964f-c38e-49de-89c2-0715801283ab",
   "metadata": {},
   "outputs": [],
   "source": [
    "# Display the image\n",
    "cv2.imshow('grey_scale Image', image_opencv_bw)\n",
    "cv2.waitKey(0)\n",
    "cv2.destroyAllWindows()"
   ]
  },
  {
   "cell_type": "code",
   "execution_count": null,
   "id": "e7da015e-79e1-41fa-86c9-afcf112da832",
   "metadata": {},
   "outputs": [],
   "source": []
  }
 ],
 "metadata": {
  "kernelspec": {
   "display_name": "Python 3 (ipykernel)",
   "language": "python",
   "name": "python3"
  },
  "language_info": {
   "codemirror_mode": {
    "name": "ipython",
    "version": 3
   },
   "file_extension": ".py",
   "mimetype": "text/x-python",
   "name": "python",
   "nbconvert_exporter": "python",
   "pygments_lexer": "ipython3",
   "version": "3.12.4"
  }
 },
 "nbformat": 4,
 "nbformat_minor": 5
}
