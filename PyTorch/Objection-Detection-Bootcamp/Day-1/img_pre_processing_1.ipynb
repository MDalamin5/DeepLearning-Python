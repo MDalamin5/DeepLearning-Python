{
 "cells": [
  {
   "cell_type": "markdown",
   "id": "da8da4cd-74c6-4084-9406-2feea3cf082a",
   "metadata": {},
   "source": [
    "# What is an Image?\n",
    "\n",
    "An image is a two-dimensional array of pixel values where each pixel represents the color information at a specific point. Images can be grayscale (where each pixel is a shade of gray) or color images, where each pixel is represented by three or four values corresponding to the primary color channels (e.g., RGB).\n",
    "\n",
    "- Digital Image: Stored as a matrix of pixel values.\n",
    "- Color Image: Each pixel is represented by a tuple (e.g., (255, 0, 0) for red in RGB)."
   ]
  },
  {
   "cell_type": "code",
   "execution_count": 2,
   "id": "89f52c12-4ecc-47dc-a244-070a8611681a",
   "metadata": {},
   "outputs": [],
   "source": [
    "from PIL import Image"
   ]
  },
  {
   "cell_type": "markdown",
   "id": "0a4a72e5-88b0-44b0-80c0-ebe3d0eaeed7",
   "metadata": {},
   "source": [
    "## Creating RGB image with PIL"
   ]
  },
  {
   "cell_type": "code",
   "execution_count": 3,
   "id": "9c9ee97e-c5c4-4741-938f-22b5d1ea4690",
   "metadata": {},
   "outputs": [],
   "source": [
    "# create image with orange collor\n",
    "image = Image.new(\"RGB\", (100, 100), (255, 100, 0))"
   ]
  },
  {
   "cell_type": "code",
   "execution_count": 4,
   "id": "8425873e-e36a-43f9-9a6e-6b8f5efe553f",
   "metadata": {},
   "outputs": [
    {
     "data": {
      "image/jpeg": "[encoded data removed]",
      "image/png": "[encoded data removed]",
      "text/plain": [
       "<PIL.Image.Image image mode=RGB size=100x100>"
      ]
     },
     "execution_count": 4,
     "metadata": {},
     "output_type": "execute_result"
    }
   ],
   "source": [
    "image"
   ]
  },
  {
   "cell_type": "code",
   "execution_count": 5,
   "id": "f1ea2d5a-93f8-4f6d-a1ae-440bbca36438",
   "metadata": {},
   "outputs": [
    {
     "name": "stdout",
     "output_type": "stream",
     "text": [
      "<class 'PIL.Image.Image'>\n",
      "(100, 100)\n",
      "RGB\n",
      "('R', 'G', 'B')\n"
     ]
    }
   ],
   "source": [
    "print(type(image))\n",
    "print(image.size)\n",
    "print(image.mode)\n",
    "print(image.getbands())"
   ]
  },
  {
   "cell_type": "markdown",
   "id": "7b22ecde-2dbd-4a67-b8f8-fb0a9fba9eb6",
   "metadata": {},
   "source": [
    "# Creating B/W or gray-scale image with PIL"
   ]
  },
  {
   "cell_type": "code",
   "execution_count": 6,
   "id": "b10f8ab3-5859-4ae7-9f0f-73f24981a634",
   "metadata": {},
   "outputs": [],
   "source": [
    "# Create image with orange color\n",
    "image_bw = Image.new(\"L\", (100, 100), (100))  # L = lite"
   ]
  },
  {
   "cell_type": "code",
   "execution_count": 7,
   "id": "2bcc5ecb-b86b-4978-9020-5fed770d1844",
   "metadata": {},
   "outputs": [
    {
     "data": {
      "image/jpeg": "[encoded data removed]",
      "image/png": "[encoded data removed]",
      "text/plain": [
       "<PIL.Image.Image image mode=L size=100x100>"
      ]
     },
     "execution_count": 7,
     "metadata": {},
     "output_type": "execute_result"
    }
   ],
   "source": [
    "image_bw"
   ]
  },
  {
   "cell_type": "code",
   "execution_count": 8,
   "id": "a4ac792e-47dd-416a-b3c4-7b816f9137c6",
   "metadata": {},
   "outputs": [
    {
     "name": "stdout",
     "output_type": "stream",
     "text": [
      "<class 'PIL.Image.Image'>\n",
      "(100, 100)\n",
      "L\n",
      "('L',)\n"
     ]
    }
   ],
   "source": [
    "print(type(image_bw))\n",
    "\n",
    "print(image_bw.size)\n",
    "\n",
    "print(image_bw.mode)\n",
    "\n",
    "print(image_bw.getbands())"
   ]
  },
  {
   "cell_type": "markdown",
   "id": "7bec3a8f-fecc-4f22-9d93-8360511dfb60",
   "metadata": {},
   "source": [
    "## Creating RGB image with Numpy and OpenCV"
   ]
  },
  {
   "cell_type": "code",
   "execution_count": 9,
   "id": "083ebe37-780c-42c6-9efe-e61d14120062",
   "metadata": {},
   "outputs": [],
   "source": [
    "import numpy as np\n",
    "import cv2"
   ]
  },
  {
   "cell_type": "code",
   "execution_count": 10,
   "id": "cfc9353f-ef86-4586-afc6-8e2c2c51b9f7",
   "metadata": {},
   "outputs": [],
   "source": [
    " # Creating a blank image with black pixels\n",
    "image_opencv = np.zeros((500, 500, 3), np.uint8)"
   ]
  },
  {
   "cell_type": "code",
   "execution_count": 11,
   "id": "fc6b67d0-f59d-4c82-a861-24d860913d54",
   "metadata": {},
   "outputs": [],
   "source": [
    "image_opencv[:] = (0, 100, 255)"
   ]
  },
  {
   "cell_type": "code",
   "execution_count": 12,
   "id": "baba589e-3760-4a0c-ba39-c540ad590e80",
   "metadata": {},
   "outputs": [
    {
     "name": "stdout",
     "output_type": "stream",
     "text": [
      "(500, 500, 3)\n",
      "500\n"
     ]
    }
   ],
   "source": [
    "print(image_opencv.shape)\n",
    "print(len(image_opencv))"
   ]
  },
  {
   "cell_type": "code",
   "execution_count": 13,
   "id": "9eb01a00-00bd-4ffd-8b65-97a112d9f8f6",
   "metadata": {},
   "outputs": [],
   "source": [
    "# display the images\n",
    "cv2.imshow('Orange Image', image_opencv)\n",
    "cv2.waitKey(0)\n",
    "cv2.destroyAllWindows()"
   ]
  },
  {
   "cell_type": "markdown",
   "id": "7b66487b-018e-4356-9428-3f5460d530f4",
   "metadata": {},
   "source": [
    "# Creating BW image with Numpy and OpenCV"
   ]
  },
  {
   "cell_type": "code",
   "execution_count": 14,
   "id": "1b9a45c5-79ab-4e3b-9852-7f5766728698",
   "metadata": {},
   "outputs": [],
   "source": [
    "image_opencv_bw = np.zeros((500, 500, 1), np.uint8) # dim 1 means gray scale image\n",
    "image_opencv_bw[:] = (140)"
   ]
  },
  {
   "cell_type": "code",
   "execution_count": 15,
   "id": "43e7cd3d-db2e-4593-9854-13a15a8c616d",
   "metadata": {},
   "outputs": [
    {
     "name": "stdout",
     "output_type": "stream",
     "text": [
      "(500, 500, 1)\n",
      "500\n"
     ]
    }
   ],
   "source": [
    "print(image_opencv_bw.shape)\n",
    "\n",
    "print(len(image_opencv_bw))"
   ]
  },
  {
   "cell_type": "code",
   "execution_count": 16,
   "id": "0ee8964f-c38e-49de-89c2-0715801283ab",
   "metadata": {},
   "outputs": [],
   "source": [
    "# Display the image\n",
    "cv2.imshow('grey_scale Image', image_opencv_bw)\n",
    "cv2.waitKey(0)\n",
    "cv2.destroyAllWindows()"
   ]
  },
  {
   "cell_type": "markdown",
   "id": "71d979cb-101b-43fe-9759-7fd1adf00a92",
   "metadata": {},
   "source": [
    "## Creating RGBA Image PIL\n",
    "\n",
    "- RGB: Red, Green, and Blue channels, with each pixel representing a combination of these three colors.\n",
    "\n",
    "- RGBA: Adds an Alpha channel to RGB, representing transparency.\n",
    "\n",
    "- Grayscale: A single channel representing shades of gray.\n",
    "\n",
    "- CMYK: Used in printing (Cyan, Magenta, Yellow, Black)."
   ]
  },
  {
   "cell_type": "code",
   "execution_count": 17,
   "id": "852676df-65e6-4b53-8680-663a94e730af",
   "metadata": {},
   "outputs": [
    {
     "name": "stdout",
     "output_type": "stream",
     "text": [
      "(100, 100)\n",
      "RGBA\n",
      "('R', 'G', 'B', 'A')\n"
     ]
    }
   ],
   "source": [
    "# Create image with orange color\n",
    "image = Image.new(\"RGB\", (100, 100), (255, 100, 0))\n",
    "image_rgba = image.convert(\"RGBA\")\n",
    "\n",
    "print(image_rgba.size)\n",
    "\n",
    "print(image_rgba.mode)\n",
    "\n",
    "print(image_rgba.getbands())\n",
    "\n",
    "image_rgba.show()"
   ]
  },
  {
   "cell_type": "markdown",
   "id": "1920db77-3fdc-46bd-96d1-9cb76e9cfada",
   "metadata": {},
   "source": [
    "## Convert to RGB from BGR images OpenCV"
   ]
  },
  {
   "cell_type": "code",
   "execution_count": 19,
   "id": "c7a93f2a-03e6-4af7-9f90-0fd7ae68ffb9",
   "metadata": {},
   "outputs": [],
   "source": [
    "# Convert BGR to RGB\n",
    "image_rgb = cv2.cvtColor(image_opencv, cv2.COLOR_BGR2RGB)\n",
    "\n",
    "# Display the image\n",
    "cv2.imshow('BGR to RGB', image_rgb)\n",
    "cv2.waitKey(0)\n",
    "cv2.destroyAllWindows()"
   ]
  },
  {
   "cell_type": "code",
   "execution_count": 20,
   "id": "816f12a5-3785-45df-a176-afead965c1e0",
   "metadata": {},
   "outputs": [],
   "source": [
    "# Convert BGR to GRAY\n",
    "image_bw = cv2.cvtColor(image_opencv, cv2.COLOR_BGR2GRAY)\n",
    "\n",
    "# Display the image\n",
    "cv2.imshow('BGR to GreyScale', image_bw)\n",
    "cv2.waitKey(0)\n",
    "cv2.destroyAllWindows()"
   ]
  },
  {
   "cell_type": "markdown",
   "id": "303a4526-1fca-4809-9281-9d9f49db3018",
   "metadata": {},
   "source": [
    "#### OpenCV doesn't directly support adding an alpha channel to an image, you can achieve this by creating a new image with 4 channels (BGRA) and copying the original image data into it"
   ]
  },
  {
   "cell_type": "code",
   "execution_count": 21,
   "id": "4a396a1c-f845-4a0d-b156-8e9a41f83954",
   "metadata": {},
   "outputs": [],
   "source": [
    "# Create a new image with 4 channels (BGRA)\n",
    "bgra_opencv = np.zeros((image_rgb.shape[0], image_rgb.shape[1], 4), dtype=np.uint8)"
   ]
  },
  {
   "cell_type": "code",
   "execution_count": 22,
   "id": "0a15e575-8150-402c-990c-3d1555981f5c",
   "metadata": {},
   "outputs": [],
   "source": [
    "# Copy the original image data into the BGR channels\n",
    "bgra_opencv[:, :, :3] = image_rgb"
   ]
  },
  {
   "cell_type": "code",
   "execution_count": 23,
   "id": "addb0d75-3052-43ae-8851-f7cf453ef095",
   "metadata": {},
   "outputs": [],
   "source": [
    "# Set the alpha channel to 255 (fully opaque)\n",
    "bgra_opencv[:, :, 3] = 255"
   ]
  },
  {
   "cell_type": "code",
   "execution_count": 24,
   "id": "160b065e-05f1-4ffb-be6d-16b52ca5c808",
   "metadata": {},
   "outputs": [
    {
     "name": "stdout",
     "output_type": "stream",
     "text": [
      "(500, 500, 4)\n",
      "500\n"
     ]
    }
   ],
   "source": [
    "print(bgra_opencv.shape)\n",
    "\n",
    "print(len(bgra_opencv))"
   ]
  },
  {
   "cell_type": "code",
   "execution_count": 25,
   "id": "6034bc4c-0296-4a95-83d9-5cec18b57e27",
   "metadata": {},
   "outputs": [],
   "source": [
    "# Display the image\n",
    "cv2.imshow('BGR to BGRA', bgra_opencv)\n",
    "cv2.waitKey(0)\n",
    "cv2.destroyAllWindows()"
   ]
  },
  {
   "cell_type": "markdown",
   "id": "b1f22bec-8514-47bd-9e4f-216461b92a56",
   "metadata": {},
   "source": [
    "# Image Types\n",
    "\n",
    "| Abbreviation | Description | File extensions |\n",
    "| ------------- | ------------- | ------------- |\n",
    "| JPEG  | Joint Photographic Expert Group image.Good choice for lossy compression of still images   | .jpg, .jpeg, .jfif, .pjpeg, .pjp    |\n",
    "| PNG  | Portable Network Graphics. Lossless compression, supports transparency (RGBA). PNG is preferred over JPEG for more precise reproduction of source images, or when transparency is needed.   | .png    |\n",
    "| HEIC  | New format, efficient compression with higher quality (used by iPhones).   | .heic    |\n",
    "| GIF  | Graphics Interchange Format. Good choice for simple images and animations.   | .gif    |\n",
    "| TIFF  | Tagged Image File Format. Brain MRI images on kaggle.   | .tif, .tiff    |"
   ]
  },
  {
   "cell_type": "code",
   "execution_count": 26,
   "id": "00ecf280-2a1b-45a2-885c-58da1419e861",
   "metadata": {},
   "outputs": [],
   "source": [
    "import os\n",
    "\n",
    "def print_file_size(file):\n",
    "\n",
    "    File_Size = os.path.getsize(file) # returns bytes\n",
    "    File_Size_MB = round(File_Size/1024,4)\n",
    "\n",
    "    print(\"Image File Size is \" + str(File_Size_MB) + \"KB\" )"
   ]
  },
  {
   "cell_type": "markdown",
   "id": "5d44fcbd-4845-453f-aa40-54167e08c4f7",
   "metadata": {},
   "source": [
    "## Save an PIL image in different formats"
   ]
  },
  {
   "cell_type": "code",
   "execution_count": 28,
   "id": "ec6ae408-dd4a-467f-8d54-548f70cca058",
   "metadata": {},
   "outputs": [
    {
     "name": "stdout",
     "output_type": "stream",
     "text": [
      "Image File Size is 0.8066KB\n",
      "Image File Size is 0.8047KB\n",
      "Image File Size is 0.2832KB\n"
     ]
    }
   ],
   "source": [
    "image.save(\"./temp/image_SAVE_95.jpg\", quality=95)  # JPG with high quality\n",
    "print_file_size(\"./temp/image_SAVE_95.jpg\")\n",
    "\n",
    "image.save(\"./temp/image_SAVE_50.jpg\", quality=50)  # JPG with high quality\n",
    "print_file_size(\"./temp/image_SAVE_50.jpg\")\n",
    "\n",
    "image.save(\"./temp/image_SAVE.png\")  # PNG with lossless compression\n",
    "print_file_size(\"./temp/image_SAVE.png\")"
   ]
  },
  {
   "cell_type": "markdown",
   "id": "8d765186-5aae-441f-aa22-66ff6c4852d4",
   "metadata": {},
   "source": [
    "## Save an OpenCV image in different formats"
   ]
  },
  {
   "cell_type": "code",
   "execution_count": 29,
   "id": "2b5df1c6-5f24-4e0f-9876-b687bd01aad2",
   "metadata": {},
   "outputs": [
    {
     "name": "stdout",
     "output_type": "stream",
     "text": [
      "Image File Size is 4.6162KB\n",
      "Image File Size is 4.6133KB\n",
      "Image File Size is 4.6113KB\n",
      "Image File Size is 2.3369KB\n",
      "Image File Size is 734.1504KB\n",
      "Image File Size is 1.4072KB\n"
     ]
    }
   ],
   "source": [
    "cv2.imwrite(\"./temp/imagecv_SAVE_100.jpg\", image_rgb, [cv2.IMWRITE_JPEG_QUALITY, 100]) # By default is 95\n",
    "# The value can be between 0 to 100, where 100 produces the highest quality and 0 produces the lowest quality.\n",
    "print_file_size(\"./temp/imagecv_SAVE_100.jpg\")\n",
    "\n",
    "cv2.imwrite(\"./temp/imagecv_SAVE_50.jpg\", image_rgb, [cv2.IMWRITE_JPEG_QUALITY, 50])\n",
    "print_file_size(\"./temp/imagecv_SAVE_50.jpg\")\n",
    "\n",
    "cv2.imwrite(\"./temp/imagecv_SAVE_0.jpg\", image_rgb, [cv2.IMWRITE_JPEG_QUALITY, 0])\n",
    "print_file_size(\"./temp/imagecv_SAVE_0.jpg\")\n",
    "\n",
    "cv2.imwrite(\"./temp/imagecv_SAVE.png\", image_rgb) # bydefault, compression is set to 3\n",
    "print_file_size(\"./temp/imagecv_SAVE.png\")\n",
    "\n",
    "cv2.imwrite(\"./temp/imagecv_SAVE_0.png\", image_rgb, [int(cv2.IMWRITE_PNG_COMPRESSION),0]) # bydefault, compression is set to 3\n",
    "print_file_size(\"./temp/imagecv_SAVE_0.png\")\n",
    "\n",
    "cv2.imwrite(\"./temp/imagecv_SAVE_9.png\", image_rgb, [int(cv2.IMWRITE_PNG_COMPRESSION),9])\n",
    "# The value can be between 0 to 9, where 9 produces the highest compression with more time to save images into the file.\n",
    "print_file_size(\"./temp/imagecv_SAVE_9.png\")"
   ]
  },
  {
   "cell_type": "markdown",
   "id": "67fe5eed-f77b-40a8-ada2-abf8f3267210",
   "metadata": {},
   "source": [
    "## EXIF Details\n",
    "\n",
    "Metadata in images, like camera settings, date, etc."
   ]
  },
  {
   "cell_type": "code",
   "execution_count": 31,
   "id": "fb065587-e000-4947-8360-82dde00e3cd6",
   "metadata": {},
   "outputs": [],
   "source": [
    "from PIL import Image, ExifTags"
   ]
  },
  {
   "cell_type": "code",
   "execution_count": 32,
   "id": "e2b1ec44-d236-4568-a80c-9e8daadf7f51",
   "metadata": {},
   "outputs": [],
   "source": [
    "image = Image.open('./data/GP_PXL_20240926_003004774.jpg')\n",
    "exif_data = image._getexif()"
   ]
  },
  {
   "cell_type": "code",
   "execution_count": 33,
   "id": "34af2875-2444-44a9-806f-400f6f6ed87f",
   "metadata": {},
   "outputs": [
    {
     "name": "stdout",
     "output_type": "stream",
     "text": [
      "ImageWidth: 2268\n",
      "ImageLength: 4032\n",
      "GPSInfo: {16: 'M', 17: 268.0}\n",
      "ResolutionUnit: 2\n",
      "ExifOffset: 244\n",
      "Make: Google\n",
      "Model: Pixel 4a\n",
      "Software: HDR+ 1.0.540104767zdr\n",
      "Orientation: 1\n",
      "DateTime: 2024:09:26 06:00:04\n",
      "YCbCrPositioning: 1\n",
      "XResolution: 72.0\n",
      "YResolution: 72.0\n",
      "ExifVersion: b'0232'\n",
      "ComponentsConfiguration: b'\\x01\\x02\\x03\\x00'\n",
      "ShutterSpeedValue: 6.64\n",
      "DateTimeOriginal: 2024:09:26 06:00:04\n",
      "DateTimeDigitized: 2024:09:26 06:00:04\n",
      "ApertureValue: 1.58\n",
      "BrightnessValue: 2.35\n",
      "ExposureBiasValue: 0.0\n",
      "MaxApertureValue: 1.58\n",
      "SubjectDistance: 4294967295.0\n",
      "MeteringMode: 2\n",
      "Flash: 16\n",
      "FocalLength: 4.38\n",
      "ColorSpace: 1\n",
      "ExifImageWidth: 2268\n",
      "SceneCaptureType: 0\n",
      "OffsetTime: +05:30\n",
      "OffsetTimeOriginal: +05:30\n",
      "OffsetTimeDigitized: +05:30\n",
      "SubsecTime: 774\n",
      "SubsecTimeOriginal: 774\n",
      "SubsecTimeDigitized: 774\n",
      "ExifImageHeight: 4032\n",
      "SensingMethod: 2\n",
      "ExposureTime: 0.010013\n",
      "ExifInteroperabilityOffset: 949\n",
      "FNumber: 1.73\n",
      "SceneType: b'\\x01'\n",
      "ExposureProgram: 2\n",
      "CustomRendered: 1\n",
      "ISOSpeedRatings: 183\n",
      "ExposureMode: 0\n",
      "FlashPixVersion: b'0100'\n",
      "WhiteBalance: 0\n",
      "LensMake: Google\n",
      "LensModel: Pixel 4a back camera 4.38mm f/1.73\n",
      "DigitalZoomRatio: 0.0\n",
      "FocalLengthIn35mmFilm: 27\n",
      "Contrast: 0\n",
      "Saturation: 0\n",
      "Sharpness: 0\n",
      "SubjectDistanceRange: 3\n",
      "CompositeImage: 3\n"
     ]
    }
   ],
   "source": [
    "# Pillow doesn't provide a built-in way to directly modify EXIF data.\n",
    "\n",
    "for tag, value in exif_data.items():\n",
    "    tag_name = ExifTags.TAGS.get(tag, tag)\n",
    "    print(f\"{tag_name}: {value}\")"
   ]
  },
  {
   "cell_type": "markdown",
   "id": "beba4781-7743-4804-8834-a80afc1a2ab0",
   "metadata": {},
   "source": [
    "## The 8 EXIF orientation values are numbered 1 to 8.\n",
    "\n",
    "- 1 = 0 degrees: the correct orientation, no adjustment is required.\n",
    "- 2 = 0 degrees, mirrored: image has been flipped back-to-front.\n",
    "- 3 = 180 degrees: image is upside down.\n",
    "- 4 = 180 degrees, mirrored: image has been flipped back-to-front and is upside down.\n",
    "- 5 = 90 degrees: image has been flipped back-to-front and is on its side.\n",
    "- 6 = 90 degrees, mirrored: image is on its side.\n",
    "- 7 = 270 degrees: image has been flipped back-to-front and is on its far side.\n",
    "- 8 = 270 degrees, mirrored: image is on its far side."
   ]
  },
  {
   "cell_type": "code",
   "execution_count": null,
   "id": "8663def9-c295-49a1-991b-c6bbf6e4ac6f",
   "metadata": {},
   "outputs": [],
   "source": [
    "# Print EXIF tags and values\n",
    "import piexif\n",
    "\n",
    "exif_dict = piexif.load(image.info.get('exif', b''))\n",
    "print(exif_dict)\n",
    "\n",
    "# Update orientation to 5 (Mirrored and rotated 90° counterclockwise)\n",
    "# Tag 274 refers to the 'Orientation' tag in EXIF\n",
    "exif_dict[\"0th\"][piexif.ImageIFD.Orientation] = 5\n",
    "\n",
    "# Insert the modified EXIF data back into the image\n",
    "exif_bytes = piexif.dump(exif_dict)\n",
    "image.save('./temp/GP_PXL_20240926_003004774_with_updated_exif.jpg', exif=exif_bytes)"
   ]
  },
  {
   "cell_type": "code",
   "execution_count": 35,
   "id": "08455763-4b76-45a1-a9a0-47e6b50c8c61",
   "metadata": {},
   "outputs": [],
   "source": [
    "## image loading"
   ]
  },
  {
   "cell_type": "code",
   "execution_count": 36,
   "id": "239504c1-1765-4d1c-b251-2d267116299e",
   "metadata": {},
   "outputs": [],
   "source": [
    "import cv2\n",
    "from PIL import Image\n",
    "\n",
    "# Load using OpenCV\n",
    "# OpenCV loads images in BGR\n",
    "image_cv = cv2.imread('./data/PXL_20241002_015409987.NIGHT.jpg')\n",
    "image_swapped = image_cv[:, :, ::-1] # BGR to RGB\n",
    "\n",
    "# Load using Pillow\n",
    "# pillow loads images in RGB\n",
    "image_pil = Image.open('./data/PXL_20241002_015409987.NIGHT.jpg')"
   ]
  },
  {
   "cell_type": "code",
   "execution_count": null,
   "id": "2f86b2e1-2e8f-4ee1-a266-d667551d8be4",
   "metadata": {},
   "outputs": [],
   "source": []
  }
 ],
 "metadata": {
  "kernelspec": {
   "display_name": "Python 3 (ipykernel)",
   "language": "python",
   "name": "python3"
  },
  "language_info": {
   "codemirror_mode": {
    "name": "ipython",
    "version": 3
   },
   "file_extension": ".py",
   "mimetype": "text/x-python",
   "name": "python",
   "nbconvert_exporter": "python",
   "pygments_lexer": "ipython3",
   "version": "3.12.4"
  }
 },
 "nbformat": 4,
 "nbformat_minor": 5
}
