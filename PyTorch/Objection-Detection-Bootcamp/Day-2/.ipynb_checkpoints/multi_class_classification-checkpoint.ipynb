{
 "cells": [
  {
   "cell_type": "markdown",
   "id": "064c7a6e-be59-46ab-a47d-1dd95b46c9f3",
   "metadata": {},
   "source": [
    "# CNN Multi Class CLassification"
   ]
  },
  {
   "cell_type": "markdown",
   "id": "cf894e55-5866-4cfc-a9c6-cc66b2796edb",
   "metadata": {},
   "source": [
    "### Components of CNN\n",
    "\n",
    "- Input Layer\n",
    "- Convolutional Layer\n",
    "- Activation Function\n",
    "- Pooling Layer\n",
    "- Fully Connected Layer (Dense Layer)\n",
    "- Output Layer\n",
    "- Loss Function\n",
    "- Optimizer"
   ]
  },
  {
   "cell_type": "markdown",
   "id": "c0dc4844-434e-4e05-ac8b-07b8832b645c",
   "metadata": {},
   "source": [
    "#### Data Structure\n",
    "\n",
    "```bash\n",
    "data/images/\n",
    "│\n",
    "├── car/\n",
    "│   ├── car_1.jpg\n",
    "│   ├── car_2.jpg\n",
    "│   └── ...\n",
    "│\n",
    "├── person/\n",
    "│   ├── person_1.jpg\n",
    "│   ├── person_2.jpg\n",
    "│   └── ...\n",
    "│\n",
    "└── dog/\n",
    "    ├── dog_1.jpg\n",
    "    ├── dog_2.jpg\n",
    "```"
   ]
  },
  {
   "cell_type": "code",
   "execution_count": 3,
   "id": "4e682330-fd5f-4cea-a7b2-b7b89d05794b",
   "metadata": {},
   "outputs": [
    {
     "name": "stdout",
     "output_type": "stream",
     "text": [
      "D:\\My-Projects\\DeepLearning-Python\\PyTorch\\Objection-Detection-Bootcamp\\Day-2\n"
     ]
    }
   ],
   "source": [
    "import os\n",
    "\n",
    "print(os.getcwd())"
   ]
  },
  {
   "cell_type": "code",
   "execution_count": 4,
   "id": "0009170b-fd00-48e2-9b5d-8c048254be38",
   "metadata": {},
   "outputs": [],
   "source": [
    "# Dataset Path\n",
    "\n",
    "data_dir = './data/images'"
   ]
  },
  {
   "cell_type": "code",
   "execution_count": 5,
   "id": "a42ff9db-e1af-442a-b3cc-3259cdb770d1",
   "metadata": {},
   "outputs": [
    {
     "data": {
      "text/plain": [
       "'./data/images'"
      ]
     },
     "execution_count": 5,
     "metadata": {},
     "output_type": "execute_result"
    }
   ],
   "source": [
    "# 3: 24 min\n",
    "data_dir"
   ]
  },
  {
   "cell_type": "code",
   "execution_count": null,
   "id": "e3846c61-bc80-42ae-b632-8f4742e43203",
   "metadata": {},
   "outputs": [],
   "source": [
    "PyTorch\\Objection-Detection-Bootcamp\\Day-2/data/images"
   ]
  }
 ],
 "metadata": {
  "kernelspec": {
   "display_name": "Python 3 (ipykernel)",
   "language": "python",
   "name": "python3"
  },
  "language_info": {
   "codemirror_mode": {
    "name": "ipython",
    "version": 3
   },
   "file_extension": ".py",
   "mimetype": "text/x-python",
   "name": "python",
   "nbconvert_exporter": "python",
   "pygments_lexer": "ipython3",
   "version": "3.12.4"
  }
 },
 "nbformat": 4,
 "nbformat_minor": 5
}
