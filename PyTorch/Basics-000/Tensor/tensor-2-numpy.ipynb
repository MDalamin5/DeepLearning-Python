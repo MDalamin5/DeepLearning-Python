{
 "cells": [
  {
   "cell_type": "code",
   "execution_count": 2,
   "id": "11bda4e3-e30b-4197-af5d-bafed6b9d318",
   "metadata": {},
   "outputs": [],
   "source": [
    "import torch\n",
    "import math"
   ]
  },
  {
   "cell_type": "code",
   "execution_count": 8,
   "id": "90e0d992-18ba-4bcc-aab7-1185a85bb3e5",
   "metadata": {},
   "outputs": [
    {
     "name": "stdout",
     "output_type": "stream",
     "text": [
      "tensor([[1., 1.],\n",
      "        [1., 1.]])\n",
      "tensor([[1., 1.],\n",
      "        [1., 1.]])\n",
      "tensor([[ 1., 99.],\n",
      "        [ 1.,  1.]])\n",
      "tensor([[ 1., 99.],\n",
      "        [ 1.,  1.]])\n"
     ]
    }
   ],
   "source": [
    "a = torch.ones(2, 2)\n",
    "b = a\n",
    "print(a)\n",
    "print(b)\n",
    "a[0][1] = 99\n",
    "print(a)\n",
    "print(b)"
   ]
  },
  {
   "cell_type": "code",
   "execution_count": 9,
   "id": "35b12669-018a-4851-ad94-ad7d2c0c1d10",
   "metadata": {},
   "outputs": [
    {
     "name": "stdout",
     "output_type": "stream",
     "text": [
      "tensor([[1., 1.],\n",
      "        [1., 1.]])\n",
      "tensor([[1., 1.],\n",
      "        [1., 1.]])\n",
      "tensor([[ 1., 99.],\n",
      "        [ 1.,  1.]])\n",
      "tensor([[1., 1.],\n",
      "        [1., 1.]])\n"
     ]
    }
   ],
   "source": [
    "a = torch.ones(2, 2)\n",
    "b = a.clone()\n",
    "print(a)\n",
    "print(b)\n",
    "a[0][1] = 99\n",
    "print(a)\n",
    "print(b)"
   ]
  },
  {
   "cell_type": "markdown",
   "id": "7fe9c4b1-1207-46c3-a5f0-5582b3257f09",
   "metadata": {},
   "source": [
    "## Moving To GPU"
   ]
  },
  {
   "cell_type": "code",
   "execution_count": 10,
   "id": "108f33ba-4e7c-43ec-a6ab-8d2ccc3218c7",
   "metadata": {},
   "outputs": [
    {
     "name": "stdout",
     "output_type": "stream",
     "text": [
      "GPU, I'm hare\n"
     ]
    }
   ],
   "source": [
    "if torch.cuda.is_available():\n",
    "    print(\"GPU, I'm hare\")\n",
    "else:\n",
    "    print(\"no GPu\")"
   ]
  },
  {
   "cell_type": "code",
   "execution_count": 12,
   "id": "47d8b8f8-b3ec-4a7c-9541-aa4cf4c1b848",
   "metadata": {},
   "outputs": [
    {
     "name": "stdout",
     "output_type": "stream",
     "text": [
      "Input tensor Size:\n",
      " torch.Size([3, 1, 2, 1, 4])\n",
      "Size after squeeze:\n",
      " torch.Size([3, 2, 4])\n"
     ]
    }
   ],
   "source": [
    "# Python program to squeeze the tensor\n",
    "# importing torch\n",
    "# import torch\n",
    "\n",
    "# creating the input tensor\n",
    "input = torch.randn(3,1,2,1,4)\n",
    "# print the input tensor\n",
    "print(\"Input tensor Size:\\n\",input.size())\n",
    "\n",
    "# squeeze the tensor\n",
    "output = torch.squeeze(input)\n",
    "# print the squeezed tensor\n",
    "print(\"Size after squeeze:\\n\",output.size())\n"
   ]
  },
  {
   "cell_type": "code",
   "execution_count": 14,
   "id": "b5fef156-a6ee-42af-ac7b-934ca52cec22",
   "metadata": {},
   "outputs": [
    {
     "name": "stdout",
     "output_type": "stream",
     "text": [
      "tensor([[0.1327, 0.4213, 0.9611, 0.1384, 0.1086, 0.0099, 0.5810, 0.6358, 0.6904,\n",
      "         0.4721, 0.2083, 0.6111, 0.4191, 0.3841, 0.2069, 0.6499, 0.6970, 0.9159,\n",
      "         0.3978, 0.6909]])\n",
      "torch.Size([1, 20])\n",
      "torch.Size([20])\n",
      "tensor([0.1327, 0.4213, 0.9611, 0.1384, 0.1086, 0.0099, 0.5810, 0.6358, 0.6904,\n",
      "        0.4721, 0.2083, 0.6111, 0.4191, 0.3841, 0.2069, 0.6499, 0.6970, 0.9159,\n",
      "        0.3978, 0.6909])\n"
     ]
    }
   ],
   "source": [
    "a = torch.rand(1, 20)\n",
    "print(a)\n",
    "print(a.shape)\n",
    "b = a.squeeze(0)\n",
    "print(b.shape)\n",
    "print(b)"
   ]
  },
  {
   "cell_type": "code",
   "execution_count": 22,
   "id": "e28acfc0-0c8c-47af-87f0-37b4b7236382",
   "metadata": {},
   "outputs": [
    {
     "name": "stdout",
     "output_type": "stream",
     "text": [
      "tensor([[[1., 1.],\n",
      "         [1., 1.],\n",
      "         [1., 1.]],\n",
      "\n",
      "        [[1., 1.],\n",
      "         [1., 1.],\n",
      "         [1., 1.]],\n",
      "\n",
      "        [[1., 1.],\n",
      "         [1., 1.],\n",
      "         [1., 1.]],\n",
      "\n",
      "        [[1., 1.],\n",
      "         [1., 1.],\n",
      "         [1., 1.]]])\n",
      "tensor([9.3924, 3.6809, 4.8752])\n",
      "tensor([[9.3924],\n",
      "        [3.6809],\n",
      "        [4.8752]])\n",
      "torch.Size([3, 1])\n",
      "tensor([[[9.3924, 9.3924],\n",
      "         [3.6809, 3.6809],\n",
      "         [4.8752, 4.8752]],\n",
      "\n",
      "        [[9.3924, 9.3924],\n",
      "         [3.6809, 3.6809],\n",
      "         [4.8752, 4.8752]],\n",
      "\n",
      "        [[9.3924, 9.3924],\n",
      "         [3.6809, 3.6809],\n",
      "         [4.8752, 4.8752]],\n",
      "\n",
      "        [[9.3924, 9.3924],\n",
      "         [3.6809, 3.6809],\n",
      "         [4.8752, 4.8752]]])\n"
     ]
    }
   ],
   "source": [
    "a = torch.ones(4, 3, 2)\n",
    "print(a)\n",
    "b = torch.rand( 3) * 10\n",
    "print(b)\n",
    "c = b.unsqueeze(1)\n",
    "print(c)\n",
    "print(c.shape)\n",
    "\n",
    "print(a * c)"
   ]
  },
  {
   "cell_type": "markdown",
   "id": "41bdac95-8687-4c84-81e0-a03269ad1de1",
   "metadata": {},
   "source": [
    "# NumPy Bridhe"
   ]
  },
  {
   "cell_type": "code",
   "execution_count": 23,
   "id": "fd622a9c-2785-41c8-bde3-132eb69635f8",
   "metadata": {},
   "outputs": [],
   "source": [
    "import numpy as np"
   ]
  },
  {
   "cell_type": "code",
   "execution_count": 26,
   "id": "4212f7d5-0e8b-4c90-98da-2eb244d05ccd",
   "metadata": {},
   "outputs": [
    {
     "data": {
      "text/plain": [
       "array([[1., 1., 1.],\n",
       "       [1., 1., 1.]])"
      ]
     },
     "execution_count": 26,
     "metadata": {},
     "output_type": "execute_result"
    }
   ],
   "source": [
    "numpy_array = np.ones((2, 3))\n",
    "numpy_array"
   ]
  },
  {
   "cell_type": "code",
   "execution_count": 28,
   "id": "9cc12c88-e303-4a06-b294-4f3031a309e8",
   "metadata": {},
   "outputs": [
    {
     "data": {
      "text/plain": [
       "array([[ 1.,  1.,  1.],\n",
       "       [ 1., 99.,  1.]])"
      ]
     },
     "execution_count": 28,
     "metadata": {},
     "output_type": "execute_result"
    }
   ],
   "source": [
    "numpy_array[1, 1] = 99\n",
    "numpy_array"
   ]
  },
  {
   "cell_type": "code",
   "execution_count": 30,
   "id": "68b6a325-53d9-43b4-be9e-cff8adcce839",
   "metadata": {},
   "outputs": [
    {
     "name": "stdout",
     "output_type": "stream",
     "text": [
      "tensor([[0.7083, 0.8730, 0.1526],\n",
      "        [0.4478, 0.5718, 0.0923]])\n",
      "\n",
      "[[0.708265   0.8729745  0.15264481]\n",
      " [0.44775528 0.57180357 0.09234351]]\n"
     ]
    }
   ],
   "source": [
    "pytorch_rand = torch.rand(2, 3)\n",
    "print(pytorch_rand)\n",
    "print()\n",
    "numpy_rand = pytorch_rand.numpy()\n",
    "print(numpy_rand)"
   ]
  },
  {
   "cell_type": "code",
   "execution_count": 31,
   "id": "85a9660d-73de-4188-b8ee-0286efcb2d07",
   "metadata": {},
   "outputs": [
    {
     "data": {
      "text/plain": [
       "tensor([[ 1.,  1.,  1.],\n",
       "        [ 1., 99.,  1.]], dtype=torch.float64)"
      ]
     },
     "execution_count": 31,
     "metadata": {},
     "output_type": "execute_result"
    }
   ],
   "source": [
    "pytorch_tensor = torch.from_numpy(numpy_array)\n",
    "pytorch_tensor"
   ]
  },
  {
   "cell_type": "code",
   "execution_count": 32,
   "id": "66f9a88b-d29c-4a2a-9cbd-23e56345e7b9",
   "metadata": {},
   "outputs": [
    {
     "data": {
      "text/plain": [
       "tensor([[7.0827e-01, 8.7297e-01, 1.5264e-01],\n",
       "        [4.4776e-01, 9.9000e+01, 9.2344e-02]])"
      ]
     },
     "execution_count": 32,
     "metadata": {},
     "output_type": "execute_result"
    }
   ],
   "source": [
    "pytorch_rand[1, 1] = 99\n",
    "pytorch_rand"
   ]
  },
  {
   "cell_type": "code",
   "execution_count": null,
   "id": "10a271c6-b882-40eb-a4e5-a7f0294bd6c6",
   "metadata": {},
   "outputs": [],
   "source": []
  }
 ],
 "metadata": {
  "kernelspec": {
   "display_name": "Python 3 (ipykernel)",
   "language": "python",
   "name": "python3"
  },
  "language_info": {
   "codemirror_mode": {
    "name": "ipython",
    "version": 3
   },
   "file_extension": ".py",
   "mimetype": "text/x-python",
   "name": "python",
   "nbconvert_exporter": "python",
   "pygments_lexer": "ipython3",
   "version": "3.12.4"
  }
 },
 "nbformat": 4,
 "nbformat_minor": 5
}
