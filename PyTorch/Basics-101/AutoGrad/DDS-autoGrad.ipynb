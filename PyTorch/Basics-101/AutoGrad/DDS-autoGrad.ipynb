{
 "cells": [
  {
   "cell_type": "code",
   "execution_count": 88,
   "id": "9cbeb246-6d9e-4410-b974-a66f7731f674",
   "metadata": {},
   "outputs": [],
   "source": [
    "import torch\n",
    "import math\n",
    "import numpy as np"
   ]
  },
  {
   "cell_type": "code",
   "execution_count": 89,
   "id": "5c320d38-9a0d-4411-8eec-c265b8738c49",
   "metadata": {},
   "outputs": [
    {
     "name": "stdout",
     "output_type": "stream",
     "text": [
      "tensor([0., 1., 2., 3.], requires_grad=True)\n"
     ]
    }
   ],
   "source": [
    "x = torch.arange(4.0, requires_grad=True)\n",
    "print(x)"
   ]
  },
  {
   "cell_type": "code",
   "execution_count": 90,
   "id": "b8038a6b-688b-49a4-a54c-675ac60c9889",
   "metadata": {},
   "outputs": [
    {
     "name": "stdout",
     "output_type": "stream",
     "text": [
      "None\n"
     ]
    }
   ],
   "source": [
    "print(x.grad)"
   ]
  },
  {
   "cell_type": "code",
   "execution_count": 91,
   "id": "7f86784b-9f42-45c6-b8de-99e1b61d79c4",
   "metadata": {},
   "outputs": [
    {
     "name": "stdout",
     "output_type": "stream",
     "text": [
      "tensor(14., grad_fn=<DotBackward0>)\n"
     ]
    }
   ],
   "source": [
    "y = torch.dot(x, x)\n",
    "print(y)"
   ]
  },
  {
   "cell_type": "code",
   "execution_count": 92,
   "id": "e7a60df1-6dd1-4676-9639-571b87ec5104",
   "metadata": {},
   "outputs": [
    {
     "name": "stdout",
     "output_type": "stream",
     "text": [
      "tensor([0., 2., 4., 6.])\n"
     ]
    }
   ],
   "source": [
    "y.backward()\n",
    "print(x.grad)"
   ]
  },
  {
   "cell_type": "code",
   "execution_count": 93,
   "id": "b263c2e6-0143-4370-a3d1-bedbcbdfbaf0",
   "metadata": {},
   "outputs": [
    {
     "data": {
      "text/plain": [
       "tensor([True, True, True, True])"
      ]
     },
     "execution_count": 93,
     "metadata": {},
     "output_type": "execute_result"
    }
   ],
   "source": [
    "x.grad == 2 * x"
   ]
  },
  {
   "cell_type": "code",
   "execution_count": 94,
   "id": "4dcd3a6b-62f7-4cda-ae61-4ca98fbda9cd",
   "metadata": {},
   "outputs": [
    {
     "data": {
      "text/plain": [
       "tensor([0., 1., 2., 3., 4.], requires_grad=True)"
      ]
     },
     "execution_count": 94,
     "metadata": {},
     "output_type": "execute_result"
    }
   ],
   "source": [
    "c = torch.arange(5.0, requires_grad=True)\n",
    "c"
   ]
  },
  {
   "cell_type": "code",
   "execution_count": 95,
   "id": "3474e171-dbc2-4afc-9b99-5fa3d218bf5a",
   "metadata": {},
   "outputs": [],
   "source": [
    "d = c * 2"
   ]
  },
  {
   "cell_type": "code",
   "execution_count": 96,
   "id": "2e1d1cd5-fcd0-46db-a4f9-966b45a04f9d",
   "metadata": {},
   "outputs": [
    {
     "data": {
      "text/plain": [
       "tensor([0., 2., 4., 6., 8.], grad_fn=<MulBackward0>)"
      ]
     },
     "execution_count": 96,
     "metadata": {},
     "output_type": "execute_result"
    }
   ],
   "source": [
    "d"
   ]
  },
  {
   "cell_type": "code",
   "execution_count": 97,
   "id": "bccc542b-474c-4f3b-823f-a1fd15029a8d",
   "metadata": {},
   "outputs": [
    {
     "data": {
      "text/plain": [
       "tensor(20., grad_fn=<SumBackward0>)"
      ]
     },
     "execution_count": 97,
     "metadata": {},
     "output_type": "execute_result"
    }
   ],
   "source": [
    "e = d.sum()\n",
    "e"
   ]
  },
  {
   "cell_type": "code",
   "execution_count": 98,
   "id": "b65eb2d0-1570-4c5a-9fe7-dd37e3336d96",
   "metadata": {},
   "outputs": [],
   "source": [
    "e.backward()"
   ]
  },
  {
   "cell_type": "code",
   "execution_count": 99,
   "id": "53190fcd-44cf-4c7d-940b-310c786db618",
   "metadata": {},
   "outputs": [
    {
     "name": "stdout",
     "output_type": "stream",
     "text": [
      "tensor([2., 2., 2., 2., 2.])\n"
     ]
    }
   ],
   "source": [
    "print(c.grad)"
   ]
  },
  {
   "cell_type": "code",
   "execution_count": 100,
   "id": "1d6a85f8-275b-470b-847a-4bc7d5e8f567",
   "metadata": {},
   "outputs": [],
   "source": [
    "x = torch_input=torch.tensor([[1.0,2.0,3.0],\n",
    "                              [4.0,5.0,6.0],\n",
    "                              [7.0,8.0,9.0]],requires_grad=True)"
   ]
  },
  {
   "cell_type": "code",
   "execution_count": 101,
   "id": "2c3d5572-c61f-4f8d-97bc-9776abb364ab",
   "metadata": {},
   "outputs": [],
   "source": [
    "def f(x):\n",
    "    return (x**3) + 7*(x**2) + 5*x + 10"
   ]
  },
  {
   "cell_type": "code",
   "execution_count": 102,
   "id": "4b8d79ad-9b62-4607-b10c-f5cc76e716c4",
   "metadata": {},
   "outputs": [],
   "source": [
    "z = f(x).sum()"
   ]
  },
  {
   "cell_type": "code",
   "execution_count": 103,
   "id": "ddb85e5d-1c1e-4034-9378-0bf98b1f6e41",
   "metadata": {},
   "outputs": [
    {
     "data": {
      "text/plain": [
       "tensor(4335., grad_fn=<SumBackward0>)"
      ]
     },
     "execution_count": 103,
     "metadata": {},
     "output_type": "execute_result"
    }
   ],
   "source": [
    "z"
   ]
  },
  {
   "cell_type": "code",
   "execution_count": 104,
   "id": "b9b4e7da-83df-4cc5-9d34-08f675e3cc4a",
   "metadata": {},
   "outputs": [],
   "source": [
    "z.backward()"
   ]
  },
  {
   "cell_type": "code",
   "execution_count": 105,
   "id": "ea228114-8b4b-4e4a-b001-659d623c4ec7",
   "metadata": {},
   "outputs": [
    {
     "name": "stdout",
     "output_type": "stream",
     "text": [
      "tensor([[ 22.,  45.,  74.],\n",
      "        [109., 150., 197.],\n",
      "        [250., 309., 374.]])\n"
     ]
    }
   ],
   "source": [
    "print(x.grad)"
   ]
  },
  {
   "cell_type": "code",
   "execution_count": null,
   "id": "7d80bd34-1d5b-484c-a5a8-19611c0efc22",
   "metadata": {},
   "outputs": [],
   "source": []
  }
 ],
 "metadata": {
  "kernelspec": {
   "display_name": "Python 3 (ipykernel)",
   "language": "python",
   "name": "python3"
  },
  "language_info": {
   "codemirror_mode": {
    "name": "ipython",
    "version": 3
   },
   "file_extension": ".py",
   "mimetype": "text/x-python",
   "name": "python",
   "nbconvert_exporter": "python",
   "pygments_lexer": "ipython3",
   "version": "3.12.4"
  }
 },
 "nbformat": 4,
 "nbformat_minor": 5
}
